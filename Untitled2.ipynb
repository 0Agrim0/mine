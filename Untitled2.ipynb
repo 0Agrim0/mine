{
 "cells": [
  {
   "cell_type": "code",
   "execution_count": 8,
   "id": "fc74ab9f",
   "metadata": {},
   "outputs": [
    {
     "name": "stdout",
     "output_type": "stream",
     "text": [
      "[5, 15, 21, 54, 416, 741, 6135]\n",
      "[5, 15, 21, 54, 416, 741, 6135]\n"
     ]
    }
   ],
   "source": [
    "arr=[5,416,54,21,6135,15,741]\n",
    "for i in range(0, len(arr)):    \n",
    "    for j in range(i+1, len(arr)):    \n",
    "        if(arr[i] > arr[j]):    \n",
    "            temp = arr[i];    \n",
    "            arr[i] = arr[j];    \n",
    "            arr[j] = temp; \n",
    "print(arr)\n",
    "\n",
    "## Alternative\n",
    "arr1=[5,416,54,21,6135,15,741]\n",
    "arr1.sort()\n",
    "print(arr1)"
   ]
  },
  {
   "cell_type": "code",
   "execution_count": 47,
   "id": "a1822e3b",
   "metadata": {},
   "outputs": [
    {
     "data": {
      "text/plain": [
       "[{'fruit': 'apple', 'color': 'red'},\n",
       " {'fruit': 'banana', 'color': 'yellow'},\n",
       " {'fruit': 'blueberry', 'color': 'blue'},\n",
       " {'fruit': 'orange', 'color': 'orange'}]"
      ]
     },
     "execution_count": 47,
     "metadata": {},
     "output_type": "execute_result"
    }
   ],
   "source": [
    "def f(list1,a):\n",
    "    return(sorted(list1, key=lambda i: i[a]))\n",
    "f([\n",
    "{\"fruit\": \"orange\", \"color\": \"orange\"},\n",
    "{\"fruit\": \"apple\", \"color\": \"red\"},\n",
    "{\"fruit\": \"banana\", \"color\": \"yellow\"},\n",
    "{\"fruit\": \"blueberry\", \"color\": \"blue\"}\n",
    "], \"fruit\")\n"
   ]
  },
  {
   "cell_type": "code",
   "execution_count": 46,
   "id": "88777541",
   "metadata": {},
   "outputs": [
    {
     "data": {
      "text/plain": [
       "[{'fruit': 'blueberry', 'color': 'blue'},\n",
       " {'fruit': 'orange', 'color': 'orange'},\n",
       " {'fruit': 'apple', 'color': 'red'},\n",
       " {'fruit': 'banana', 'color': 'yellow'}]"
      ]
     },
     "execution_count": 46,
     "metadata": {},
     "output_type": "execute_result"
    }
   ],
   "source": [
    "f([\n",
    "{\"fruit\": \"orange\", \"color\": \"orange\"},\n",
    "{\"fruit\": \"apple\", \"color\": \"red\"},\n",
    "{\"fruit\": \"banana\", \"color\": \"yellow\"},\n",
    "{\"fruit\": \"blueberry\", \"color\": \"blue\"}\n",
    "], \"color\")"
   ]
  },
  {
   "cell_type": "code",
   "execution_count": 48,
   "id": "5362a637",
   "metadata": {},
   "outputs": [
    {
     "data": {
      "text/plain": [
       "{'value1': 'key1',\n",
       " 'value2': 'key2',\n",
       " 'value3': 'key3',\n",
       " 'value4': 'key4',\n",
       " 'value5': 'key5'}"
      ]
     },
     "execution_count": 48,
     "metadata": {},
     "output_type": "execute_result"
    }
   ],
   "source": [
    "def fun(dic):\n",
    "    return(dict((v,k) for k,v in dic.items()))\n",
    "fun({\n",
    "\"key1\": \"value1\",\n",
    "\"key2\": \"value2\",\n",
    "\"key3\": \"value3\",\n",
    "\"key4\": \"value4\",\n",
    "\"key5\": \"value5\"\n",
    "})"
   ]
  },
  {
   "cell_type": "code",
   "execution_count": 54,
   "id": "d22881ed",
   "metadata": {},
   "outputs": [
    {
     "name": "stdout",
     "output_type": "stream",
     "text": [
      "{'One Piece', 'Attack On Titan'}\n",
      "{\"Stein's Gate\", 'One Piece', 'Dragon Ball Z', 'SwordArt Online', 'One Punch Man', 'The Devil is a Part Timer!', 'Code Geass', 'Full Metal Alchemist', 'Attack On Titan', 'Bleach', 'DeathNote'}\n"
     ]
    }
   ],
   "source": [
    "Mainstream = [\"One Punch Man\",\"Attack On Titan\",\"One Piece\",\"SwordArt Online\",\"Bleach\",\"Dragon Ball Z\",\"One Piece\"]\n",
    "must_watch = [\"Full Metal Alchemist\",\"Code Geass\",\"DeathNote\",\"Stein's Gate\",\"The Devil is a Part Timer!\",\"One Piece\",\"Attack On Titan\"]\n",
    "def fu(M,m):\n",
    "    Mainstream = set(M)\n",
    "    must_watch = set(m)\n",
    "    if len(Mainstream.intersection(must_watch)) > 0:\n",
    "        print(Mainstream.intersection(must_watch))\n",
    "        print(set(M+m))\n",
    "    else:\n",
    "        return(\"no common elements\")\n",
    "\n",
    "fu(Mainstream,must_watch)   "
   ]
  },
  {
   "cell_type": "code",
   "execution_count": 137,
   "id": "4b6c7cae",
   "metadata": {},
   "outputs": [
    {
     "data": {
      "text/plain": [
       "[5, 11, 17, 23]"
      ]
     },
     "execution_count": 137,
     "metadata": {},
     "output_type": "execute_result"
    }
   ],
   "source": [
    "def ff(arr,a,b):\n",
    "    m=[]\n",
    "    if(len(arr)<a or len(arr)<b):\n",
    "        print(\"--\")\n",
    "    else:\n",
    "        for i in range(0,len(arr)):\n",
    "            if(i==a):\n",
    "                for j in range(a,b,2):\n",
    "                    m.append(arr[j])    \n",
    "        return m\n",
    "\n",
    "ff([2,3,5,7,11,13,17,19,23,29,31,37,41], 2, 10)\n"
   ]
  },
  {
   "cell_type": "code",
   "execution_count": 97,
   "id": "d676af67",
   "metadata": {},
   "outputs": [],
   "source": [
    "A0 = dict(zip(('a','b','c','d','e'),(1,2,3,4,5)))\n",
    "A1 = range(10)\n",
    "A2 = sorted([i for i in A1 if i in A0])\n",
    "A3 = sorted([A0[s] for s in A0])\n",
    "A4 = [i for i in A1 if i in A3]\n",
    "A5 = {i:i*i for i in A1}\n",
    "A6 = [[i,i*i] for i in A1]\n",
    "# A7 = reduce(lambda x,y: x+y, [10,23, -45, 33])\n",
    "A8 = map(lambda x: x*2, [1,2,3,4])\n",
    "A9 = filter(lambda x: len(x) >3, [\"I\" , \"want\", \"to\", \"learn\", \"python\"])"
   ]
  },
  {
   "cell_type": "code",
   "execution_count": 99,
   "id": "7994b11e",
   "metadata": {},
   "outputs": [
    {
     "name": "stdout",
     "output_type": "stream",
     "text": [
      "{'a': 1, 'b': 2, 'c': 3, 'd': 4, 'e': 5}\n",
      "range(0, 10)\n",
      "[]\n",
      "[1, 2, 3, 4, 5]\n",
      "[1, 2, 3, 4, 5]\n",
      "{0: 0, 1: 1, 2: 4, 3: 9, 4: 16, 5: 25, 6: 36, 7: 49, 8: 64, 9: 81}\n",
      "[[0, 0], [1, 1], [2, 4], [3, 9], [4, 16], [5, 25], [6, 36], [7, 49], [8, 64], [9, 81]]\n",
      "<map object at 0x0000023BAD6E2200>\n",
      "<filter object at 0x0000023BAD6E1690>\n"
     ]
    }
   ],
   "source": [
    "print(A0)\n",
    "print(A1)\n",
    "print(A2)\n",
    "print(A3)\n",
    "print(A4)\n",
    "print(A5)\n",
    "print(A6)\n",
    "# print(A7)\n",
    "print(A8)\n",
    "print(A9)"
   ]
  },
  {
   "cell_type": "code",
   "execution_count": null,
   "id": "47f86301",
   "metadata": {},
   "outputs": [],
   "source": []
  },
  {
   "cell_type": "code",
   "execution_count": 87,
   "id": "98c3c870",
   "metadata": {},
   "outputs": [
    {
     "data": {
      "text/plain": [
       "True"
      ]
     },
     "execution_count": 87,
     "metadata": {},
     "output_type": "execute_result"
    }
   ],
   "source": [
    "def fa(from_date,to_date,n):\n",
    "    if(int(from_date.split(\"-\")[0]+from_date.split(\"-\")[1]+from_date.split(\"-\")[2])-int(to_date.split(\"-\")[0]+to_date.split(\"-\")[1]+to_date.split(\"-\")[2])==n):\n",
    "        return(True)\n",
    "    else:\n",
    "        return(False)\n",
    "from_date=\"2022-09-22\"\n",
    "to_date=\"2022-09-22\"\n",
    "n=0\n",
    "fa(from_date,to_date,n)"
   ]
  },
  {
   "cell_type": "code",
   "execution_count": 138,
   "id": "be33dc31",
   "metadata": {},
   "outputs": [
    {
     "name": "stdout",
     "output_type": "stream",
     "text": [
      "2016-11-29\n"
     ]
    }
   ],
   "source": [
    "from datetime import date, timedelta,datetime\n",
    "def date(da,n):\n",
    "    d=datetime.strptime(da,'%y-%m-%d')\n",
    "    print(d.date()-timedelta(n))\n",
    "date('16-12-10',11)"
   ]
  },
  {
   "cell_type": "code",
   "execution_count": 57,
   "id": "18bf408d",
   "metadata": {},
   "outputs": [
    {
     "ename": "IndentationError",
     "evalue": "expected an indented block after function definition on line 1 (4051328256.py, line 2)",
     "output_type": "error",
     "traceback": [
      "\u001b[1;36m  Input \u001b[1;32mIn [57]\u001b[1;36m\u001b[0m\n\u001b[1;33m    for i in range(x):\u001b[0m\n\u001b[1;37m    ^\u001b[0m\n\u001b[1;31mIndentationError\u001b[0m\u001b[1;31m:\u001b[0m expected an indented block after function definition on line 1\n"
     ]
    }
   ],
   "source": [
    "def fi(x,l=[]):\n",
    "for i in range(x):\n",
    "    l.append(i*i)\n",
    "    print(l)\n",
    "fi(2)\n",
    "# f(3,[3,2,1])\n",
    "# f(3)"
   ]
  }
 ],
 "metadata": {
  "kernelspec": {
   "display_name": "Python 3 (ipykernel)",
   "language": "python",
   "name": "python3"
  },
  "language_info": {
   "codemirror_mode": {
    "name": "ipython",
    "version": 3
   },
   "file_extension": ".py",
   "mimetype": "text/x-python",
   "name": "python",
   "nbconvert_exporter": "python",
   "pygments_lexer": "ipython3",
   "version": "3.10.4"
  }
 },
 "nbformat": 4,
 "nbformat_minor": 5
}
