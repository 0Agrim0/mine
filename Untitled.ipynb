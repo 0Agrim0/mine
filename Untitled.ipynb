{
 "cells": [
  {
   "cell_type": "code",
   "execution_count": 193,
   "id": "1db89994",
   "metadata": {},
   "outputs": [],
   "source": [
    "from collections import Counter\n",
    "import numpy as np\n",
    "import trino\n",
    "import pandas as pd\n",
    "##mysql connector\n",
    "import mysql.connector\n",
    "myconn = mysql.connector.connect(host = \"tango-read-nifi.ci9kqv9mlekc.ap-south-1.rds.amazonaws.com\",\n",
    "                                 user = \"pikachu\",passwd = \"crofarm123abc\",database = \"consumer\")\n",
    "cur_mysql = myconn.cursor()\n",
    "\n",
    "\n",
    "##trino connector\n",
    "from trino.dbapi import connect\n",
    "conn = connect(host=\"presto.crofarm.com\",port=443,catalog='hive',http_scheme='https',auth=trino.auth.BasicAuthentication(\"db.manager\",\"crofarm\"))\n",
    "cur_trino = conn.cursor()\n",
    "\n",
    "\n",
    "trino_tables=[]\n",
    "# schema=[\"consumer\",\"crofarmusers\",\"products\"]\n",
    "schema=['historical']\n",
    "for i in range(len(schema)):\n",
    "    b=\"show tables from \"+schema[i]+\" like 'full%' \"\n",
    "    cur_trino.execute(b)\n",
    "    tables=cur_trino.fetchall()\n",
    "    for j in range(len(tables)):\n",
    "        trino_tables.append(str(schema[i].lower())+\".\"+str(tables[j][0].lower()))\n",
    "\n",
    "# print(trino_tables)\n",
    "trino_tables.sort()\n",
    "trino_final_tables=[]\n",
    "t=[]\n",
    "for i in range(len(trino_tables)):\n",
    "    if(trino_tables[i].split(\"_\")[1])=='bizfin':\n",
    "        continue\n",
    "    if(trino_tables[i].split(\"_\")[1])=='temp':\n",
    "        continue\n",
    "    if(trino_tables[i].split(\"_\")[1])=='crofarmusers':\n",
    "        t.append(trino_tables[i])\n",
    "        trino_final_tables.append(\"crofarmUsers.\"+str(\"_\".join(trino_tables[i].split(\"_\")[2:])))\n",
    "    else:\n",
    "        t.append(trino_tables[i])\n",
    "        trino_final_tables.append(str(trino_tables[i].split(\"_\")[1:2][0])+\".\"+str(\"_\".join(trino_tables[i].split(\"_\")[2:])))\n",
    "\n",
    "# trino_final_tables.sort()\n",
    "# mysql_final_tables=[]\n",
    "# schema=[\"consumer\",\"crofarmUsers\",\"products\"]\n",
    "# for i in range(len(schema)):\n",
    "#     b=\"show tables from \"+schema[i]\n",
    "#     cur_mysql.execute(b)\n",
    "#     mysql_tables=cur_mysql.fetchall()\n",
    "#     for j in range(len(mysql_tables)):\n",
    "#         mysql_final_tables.append(str(schema[i].lower())+\".\"+str(mysql_tables[j][0].lower()))\n",
    "\n",
    "# mysql_final_tables.sort()\n",
    "# d=set(mysql_final_tables)-set(trino_final_tables)\n",
    "# b=set(mysql_final_tables)-d"
   ]
  },
  {
   "cell_type": "code",
   "execution_count": null,
   "id": "66e851c7",
   "metadata": {},
   "outputs": [],
   "source": [
    "cur_mysql.execute()\n",
    "mysql_tables=cur_mysql.fetchall()"
   ]
  },
  {
   "cell_type": "code",
   "execution_count": 194,
   "id": "49ace016",
   "metadata": {},
   "outputs": [],
   "source": [
    "import mysql.connector\n",
    "myconn = mysql.connector.connect(host = \"tango-read-nifi.ci9kqv9mlekc.ap-south-1.rds.amazonaws.com\",\n",
    "                                 user = \"pikachu\",passwd = \"crofarm123abc\",database = \"consumer\")\n",
    "cur_mysql = myconn.cursor()"
   ]
  },
  {
   "cell_type": "code",
   "execution_count": 195,
   "id": "3f33b7d3",
   "metadata": {},
   "outputs": [],
   "source": [
    "mysql_col=[]\n",
    "trino_col=[]\n",
    "for i in range(len(trino_final_tables)):\n",
    "    cur_mysql.execute(\"select COLUMN_NAME from information_schema.columns where `TABLE_SCHEMA`='\"+trino_final_tables[i].split('.')[0]+\"' and `table_name` ='\"+trino_final_tables[i].split('.')[1]+\"'\")\n",
    "    mysql_col.append(cur_mysql.fetchall())\n",
    "    cur_trino.execute(\"select COLUMN_NAME from information_schema.columns where TABLE_SCHEMA='\"+t[i].split('.')[0]+\"' and table_name ='\"+t[i].split('.')[1]+\"'\")\n",
    "    trino_col.append(cur_trino.fetchall())\n"
   ]
  },
  {
   "cell_type": "code",
   "execution_count": 197,
   "id": "d4711f61",
   "metadata": {},
   "outputs": [],
   "source": [
    "trino_final_col=[]\n",
    "for i in range(len(trino_col)):\n",
    "    t=[]\n",
    "    for j in range(len(trino_col[i])):\n",
    "        t.append(trino_col[i][j][0])\n",
    "    trino_final_col.append(t)\n",
    "    \n",
    "mysql_final_col=[]\n",
    "for i in range(len(mysql_col)):\n",
    "    t=[]\n",
    "    for j in range(len(mysql_col[i])):\n",
    "        t.append(mysql_col[i][j][0])\n",
    "    mysql_final_col.append(t)"
   ]
  },
  {
   "cell_type": "code",
   "execution_count": 198,
   "id": "b685504c",
   "metadata": {
    "scrolled": false
   },
   "outputs": [],
   "source": [
    "a=[]\n",
    "for i in range(len(mysql_final_col)):\n",
    "    a.append(set(mysql_final_col[i])-set(trino_final_col[i]))"
   ]
  },
  {
   "cell_type": "code",
   "execution_count": 199,
   "id": "d0b14b73",
   "metadata": {},
   "outputs": [],
   "source": [
    "c=[]\n",
    "change_table=[]\n",
    "for i in range(len(a)):\n",
    "    if(len(a[i])==0):\n",
    "        pass\n",
    "    else:\n",
    "        change_table.append(trino_final_tables[i])\n",
    "        c.append(list(a[i]))"
   ]
  },
  {
   "cell_type": "code",
   "execution_count": 189,
   "id": "599ee4c4",
   "metadata": {},
   "outputs": [],
   "source": []
  },
  {
   "cell_type": "code",
   "execution_count": 200,
   "id": "2fc2309e",
   "metadata": {},
   "outputs": [
    {
     "data": {
      "text/plain": [
       "['orders_delivered_by_six_thirty_am', 'six_thirty_am_delivery_per']"
      ]
     },
     "execution_count": 200,
     "metadata": {},
     "output_type": "execute_result"
    }
   ],
   "source": [
    "c[0]"
   ]
  },
  {
   "cell_type": "code",
   "execution_count": 201,
   "id": "ed12c7ec",
   "metadata": {},
   "outputs": [
    {
     "data": {
      "text/plain": [
       "['consumer.cn_agent_first_order_performance',\n",
       " 'consumer.cn_agent_performance',\n",
       " 'consumer.cn_consumer_property',\n",
       " 'consumer.cn_picker',\n",
       " 'consumer.cn_wallet_coupon',\n",
       " 'consumer.order_data_property',\n",
       " 'consumer.order_delivery_info',\n",
       " 'consumer.partner_rejected_order',\n",
       " 'consumer.product_rating',\n",
       " 'consumer.route_line',\n",
       " 'crofarmUsers.retailer_document',\n",
       " 'products.bunch_packing_qc_mapping',\n",
       " 'products.bunch_table_packing',\n",
       " 'products.dc_metric',\n",
       " 'products.partner_incentive_sales',\n",
       " 'products.product_sku_receiving_mapping',\n",
       " 'products.sku_bunch',\n",
       " 'products.sku_receiving',\n",
       " 'products.zone_pricing',\n",
       " 'products.zone_subscribable_product']"
      ]
     },
     "execution_count": 201,
     "metadata": {},
     "output_type": "execute_result"
    }
   ],
   "source": [
    "change_table"
   ]
  },
  {
   "cell_type": "code",
   "execution_count": 187,
   "id": "b423a140",
   "metadata": {},
   "outputs": [
    {
     "data": {
      "text/plain": [
       "['id', 'int(11)', 'NO', 'PRI', None, 'auto_increment']"
      ]
     },
     "execution_count": 187,
     "metadata": {},
     "output_type": "execute_result"
    }
   ],
   "source": [
    "b[0]"
   ]
  },
  {
   "cell_type": "code",
   "execution_count": 202,
   "id": "dc146b6b",
   "metadata": {},
   "outputs": [],
   "source": [
    "f=[]\n",
    "for k in range(len(change_table)):\n",
    "    m=[]\n",
    "    n=[]\n",
    "    b={}\n",
    "    cur_mysql.execute(\"desc \"+str(change_table[k]))\n",
    "    a=(cur_mysql.fetchall())\n",
    "    for i in range(len(a)):\n",
    "        b[(a[i][0])]=a[i][1]\n",
    "    f.append(b)\n",
    "typ=[]\n",
    "for i in range(len(change_table)):\n",
    "    m=[]\n",
    "    for k in range(len(c[i])):\n",
    "        if('int(11)' == f[i][c[i][k]]):\n",
    "            m.append('int')\n",
    "        elif('varchar' in f[i][c[i][k]]):\n",
    "            m.append('varchar')\n",
    "        elif('longtext' in f[i][c[i][k]]):\n",
    "            m.append('varchar')\n",
    "        elif('tinyint' in f[i][c[i][k]]):\n",
    "            m.append('boolean')\n",
    "        elif('datetime' in f[i][c[i][k]]):\n",
    "            m.append('bigint')\n",
    "        else:\n",
    "            m.append(f[i][c[i][k]])\n",
    "    typ.append(m)"
   ]
  },
  {
   "cell_type": "code",
   "execution_count": 209,
   "id": "56d35195",
   "metadata": {},
   "outputs": [
    {
     "data": {
      "text/plain": [
       "20"
      ]
     },
     "execution_count": 209,
     "metadata": {},
     "output_type": "execute_result"
    }
   ],
   "source": [
    "len(change_table)"
   ]
  },
  {
   "cell_type": "code",
   "execution_count": 208,
   "id": "99020029",
   "metadata": {},
   "outputs": [
    {
     "data": {
      "text/plain": [
       "20"
      ]
     },
     "execution_count": 208,
     "metadata": {},
     "output_type": "execute_result"
    }
   ],
   "source": [
    "len(c)"
   ]
  },
  {
   "cell_type": "code",
   "execution_count": 207,
   "id": "3bcab570",
   "metadata": {},
   "outputs": [
    {
     "data": {
      "text/plain": [
       "20"
      ]
     },
     "execution_count": 207,
     "metadata": {},
     "output_type": "execute_result"
    }
   ],
   "source": [
    "len(typ)"
   ]
  },
  {
   "cell_type": "code",
   "execution_count": 219,
   "id": "70f26f63",
   "metadata": {},
   "outputs": [
    {
     "name": "stdout",
     "output_type": "stream",
     "text": [
      "[[True]]\n",
      "[[True]]\n",
      "[[True]]\n",
      "[[True]]\n",
      "[[True]]\n",
      "[[True]]\n",
      "[[True]]\n",
      "[[True]]\n",
      "[[True]]\n",
      "[[True]]\n",
      "[[True]]\n",
      "[[True]]\n",
      "[[True]]\n",
      "[[True]]\n",
      "[[True]]\n",
      "[[True]]\n",
      "[[True]]\n",
      "[[True]]\n",
      "[[True]]\n",
      "[[True]]\n",
      "[[True]]\n",
      "[[True]]\n",
      "[[True]]\n",
      "[[True]]\n",
      "[[True]]\n",
      "[[True]]\n",
      "[[True]]\n",
      "[[True]]\n",
      "[[True]]\n",
      "[[True]]\n",
      "[[True]]\n",
      "[[True]]\n",
      "[[True]]\n",
      "[[True]]\n",
      "[[True]]\n",
      "[[True]]\n",
      "[[True]]\n",
      "[[True]]\n",
      "[[True]]\n",
      "[[True]]\n",
      "[[True]]\n",
      "[[True]]\n",
      "[[True]]\n",
      "[[True]]\n",
      "[[True]]\n",
      "[[True]]\n",
      "[[True]]\n",
      "[[True]]\n",
      "[[True]]\n",
      "[[True]]\n",
      "[[True]]\n",
      "[[True]]\n",
      "[[True]]\n",
      "[[True]]\n",
      "[[True]]\n",
      "[[True]]\n",
      "[[True]]\n",
      "[[True]]\n",
      "[[True]]\n",
      "[[True]]\n",
      "[[True]]\n",
      "[[True]]\n",
      "[[True]]\n",
      "[[True]]\n",
      "[[True]]\n",
      "[[True]]\n",
      "[[True]]\n",
      "[[True]]\n",
      "[[True]]\n",
      "[[True]]\n",
      "[[True]]\n",
      "[[True]]\n",
      "[[True]]\n",
      "[[True]]\n",
      "[[True]]\n",
      "[[True]]\n",
      "[[True]]\n",
      "[[True]]\n",
      "[[True]]\n",
      "[[True]]\n",
      "[[True]]\n",
      "[[True]]\n"
     ]
    }
   ],
   "source": [
    "for i in range(len(change_table)):\n",
    "    for j in range(len(c[i])):\n",
    "        cur_trino.execute('ALTER TABLE IF EXISTS historical.ut_'+\"_\".join(change_table[i].split('.'))+' ADD COLUMN  IF NOT EXISTS  '+c[i][j] +\" \"+typ[i][j])\n",
    "        print(cur_trino.fetchall())"
   ]
  },
  {
   "cell_type": "code",
   "execution_count": null,
   "id": "1c4362a2",
   "metadata": {},
   "outputs": [],
   "source": [
    "# not_present_in_trino=list(set(mysql_final_tables)-set(trino_final_tables))\n",
    "# new_list=list(set(mysql_final_tables)-set(not_present_in_trino))\n",
    "# new_list.sort()\n",
    "\n",
    "# new_list\n",
    "# columns=[]\n",
    "# columns2=[]\n",
    "# for i in range(len(new_list)):\n",
    "#     if(new_list[i]==trino_final_tables[i]):\n",
    "#         cur_mysql.execute(\"select COLUMN_NAME from information_schema.columns where `TABLE_SCHEMA`='\"+new_list[i].split('.')[0]+\"' and table_name ='\"+new_list[i].split('.')[1]+\"'\")\n",
    "#         columns.append(cur_mysql.fetchall())\n",
    "#         cur_trino.execute(\"select COLUMN_NAME from information_schema.columns where TABLE_SCHEMA='\"+trino_final_tables[i].split('.')[0]+\"' and table_name ='\"+trino_final_tables[i].split('.')[1]+\"'\")\n",
    "#         columns2.append(cur_trino.fetchall())\n",
    "\n",
    "# col=[]\n",
    "# for i in range(len(columns)):\n",
    "#     m=[]\n",
    "#     for j in range(len(columns[i])):\n",
    "#         m.append(columns[i][j][0])\n",
    "#     col.append(m)\n",
    "    \n",
    "# col2=[]\n",
    "# for i in range(len(columns2)):\n",
    "#     m=[]\n",
    "#     for j in range(len(columns2[i])):\n",
    "#         m.append(columns2[i][j][0])\n",
    "#     col2.append(m)\n",
    "    \n",
    "# change_table=[]\n",
    "# dif_col=[]\n",
    "# for i in range(len(col)):\n",
    "#     dif_col.append((list(set(col[i])-set(col2[i]))))\n",
    "#     a=(list(set(col[i])-set(col2[i])))\n",
    "#     if(len(a)>0):\n",
    "#         print(a)\n",
    "#         print(new_list[i])\n",
    "#         change_table.append(new_list[i])\n",
    "        \n",
    "# diff_final=[]\n",
    "# for i in range(len(dif_col)):\n",
    "#     if(dif_col[i]==[]):\n",
    "#         pass\n",
    "#     else:\n",
    "#         diff_final.append(dif_col[i])"
   ]
  },
  {
   "cell_type": "code",
   "execution_count": 220,
   "id": "6ae5cf1e",
   "metadata": {},
   "outputs": [],
   "source": [
    "insert_into = [\"insert into hive.products.Category select *, cast('done' as varchar) as data_copied from hive.historical.full_products_Category where dt =(select max(dt) from hive.historical.full_products_Category where dt >= cast(current_date as varchar))\", \"insert into hive.products.Commodity select *, cast('done' as varchar) as data_copied from hive.historical.full_products_Commodity where dt = (select max(dt) from hive.historical.full_products_Commodity where dt >= cast(current_date as varchar))\", \"insert into hive.products.ProdAttrbMapping select *, cast('done' as varchar) as data_copied from hive.historical.full_products_ProdAttrbMapping where dt = (select max(dt) from hive.historical.full_products_ProdAttrbMapping where dt >= cast(current_date as varchar))\", \"insert into hive.products.Product select *, cast('done' as varchar) as data_copied from hive.historical.full_products_Product where dt = (select max(dt) from hive.historical.full_products_Product where dt >= cast(current_date as varchar))\", \"insert into hive.products.SubCategory select *, cast('done' as varchar) as data_copied from hive.historical.full_products_SubCategory where dt = (select max(dt) from hive.historical.full_products_SubCategory where dt >= cast(current_date as varchar))\", \"insert into hive.products.agent_product_mapping select *, cast('done' as varchar) as data_copied from hive.historical.full_products_agent_product_mapping where dt = (select max(dt) from hive.historical.full_products_agent_product_mapping where dt >= cast(current_date as varchar))\", \"insert into hive.products.auth_permission select *, cast('done' as varchar) as data_copied from hive.historical.full_products_auth_permission where dt = (select max(dt) from hive.historical.full_products_auth_permission where dt >= cast(current_date as varchar))\", \"insert into hive.products.ba_airtelpayment select *, cast('done' as varchar) as data_copied from hive.historical.full_products_ba_airtelpayment where dt = (select max(dt) from hive.historical.full_products_ba_airtelpayment where dt >= cast(current_date as varchar))\", \"insert into hive.products.ba_dp_transactions select *, cast('done' as varchar) as data_copied from hive.historical.full_products_ba_dp_transactions where dt = (select max(dt) from hive.historical.full_products_ba_dp_transactions where dt >= cast(current_date as varchar))\", \"insert into hive.products.bulk_order_cancel select *, cast('done' as varchar) as data_copied from hive.historical.full_products_bulk_order_cancel where dt = (select max(dt) from hive.historical.full_products_bulk_order_cancel where dt >= cast(current_date as varchar))\", \"insert into hive.products.bunch_packing_qc_mapping select *, cast('done' as varchar) as data_copied from hive.historical.full_products_bunch_packing_qc_mapping where dt = (select max(dt) from hive.historical.full_products_bunch_packing_qc_mapping where dt >= cast(current_date as varchar))\", \"insert into hive.products.bunch_table_packing select *, cast('done' as varchar) as data_copied from hive.historical.full_products_bunch_table_packing where dt = (select max(dt) from hive.historical.full_products_bunch_table_packing where dt >= cast(current_date as varchar))\", \"insert into hive.products.category_properties select *, cast('done' as varchar) as data_copied from hive.historical.full_products_category_properties where dt = (select max(dt) from hive.historical.full_products_category_properties where dt >= cast(current_date as varchar))\", \"insert into hive.products.city_group select *, cast('done' as varchar) as data_copied from hive.historical.full_products_city_group where dt = (select max(dt) from hive.historical.full_products_city_group where dt >= cast(current_date as varchar))\", \"insert into hive.products.combo_products select *, cast('done' as varchar) as data_copied from hive.historical.full_products_combo_products where dt = (select max(dt) from hive.historical.full_products_combo_products where dt >= cast(current_date as varchar))\", \"insert into hive.products.cr_credit_note select *, cast('done' as varchar) as data_copied from hive.historical.full_products_cr_credit_note where dt = (select max(dt) from hive.historical.full_products_cr_credit_note where dt >= cast(current_date as varchar))\", \"insert into hive.products.cr_mandi_latest_price select *, cast('done' as varchar) as data_copied from hive.historical.full_products_cr_mandi_latest_price where dt = (select max(dt) from hive.historical.full_products_cr_mandi_latest_price where dt >= cast(current_date as varchar))\", \"insert into hive.products.cr_mandi_price select *, cast('done' as varchar) as data_copied from hive.historical.full_products_cr_mandi_price where dt = (select max(dt) from hive.historical.full_products_cr_mandi_price where dt >= cast(current_date as varchar))\", \"insert into hive.products.crate select *, cast('done' as varchar) as data_copied from hive.historical.full_products_crate where dt = (select max(dt) from hive.historical.full_products_crate where dt >= cast(current_date as varchar))\", \"insert into hive.products.crate_transaction select *, cast('done' as varchar) as data_copied from hive.historical.full_products_crate_transaction where dt = (select max(dt) from hive.historical.full_products_crate_transaction where dt >= cast(current_date as varchar))\", \"insert into hive.products.crate_user_mapping select *, cast('done' as varchar) as data_copied from hive.historical.full_products_crate_user_mapping where dt = (select max(dt) from hive.historical.full_products_crate_user_mapping where dt >= cast(current_date as varchar))\", \"insert into hive.products.dc_inventory select *, cast('done' as varchar) as data_copied from hive.historical.full_products_dc_inventory where dt = (select max(dt) from hive.historical.full_products_dc_inventory where dt >= cast(current_date as varchar))\", \"insert into hive.products.dc_metric select *, cast('done' as varchar) as data_copied from hive.historical.full_products_dc_metric where dt = (select max(dt) from hive.historical.full_products_dc_metric where dt >= cast(current_date as varchar))\", \"insert into hive.products.deal_share select *, cast('done' as varchar) as data_copied from hive.historical.full_products_deal_share where dt = (select max(dt) from hive.historical.full_products_deal_share where dt >= cast(current_date as varchar))\", \"insert into hive.products.deal_share_product_mapping select *, cast('done' as varchar) as data_copied from hive.historical.full_products_deal_share_product_mapping where dt = (select max(dt) from hive.historical.full_products_deal_share_product_mapping where dt >= cast(current_date as varchar))\", \"insert into hive.products.delivery_feedback_ticket select *, cast('done' as varchar) as data_copied from hive.historical.full_products_delivery_feedback_ticket where dt = (select max(dt) from hive.historical.full_products_delivery_feedback_ticket where dt >= cast(current_date as varchar))\", \"insert into hive.products.dist_retail_margin select *, cast('done' as varchar) as data_copied from hive.historical.full_products_dist_retail_margin where dt = (select max(dt) from hive.historical.full_products_dist_retail_margin where dt >= cast(current_date as varchar))\", \"insert into hive.products.dist_vol_pricing select *, cast('done' as varchar) as data_copied from hive.historical.full_products_dist_vol_pricing where dt = (select max(dt) from hive.historical.full_products_dist_vol_pricing where dt >= cast(current_date as varchar))\", \"insert into hive.products.distributor_machine select *, cast('done' as varchar) as data_copied from hive.historical.full_products_distributor_machine where dt = (select max(dt) from hive.historical.full_products_distributor_machine where dt >= cast(current_date as varchar))\", \"insert into hive.products.distributor_product_mapping select *, cast('done' as varchar) as data_copied from hive.historical.full_products_distributor_product_mapping where dt = (select max(dt) from hive.historical.full_products_distributor_product_mapping where dt >= cast(current_date as varchar))\", \"insert into hive.products.distributor_table select *, cast('done' as varchar) as data_copied from hive.historical.full_products_distributor_table where dt = (select max(dt) from hive.historical.full_products_distributor_table where dt >= cast(current_date as varchar))\", \"insert into hive.products.distributor_usp select *, cast('done' as varchar) as data_copied from hive.historical.full_products_distributor_usp where dt = (select max(dt) from hive.historical.full_products_distributor_usp where dt >= cast(current_date as varchar))\", \"insert into hive.products.django_content_type select *, cast('done' as varchar) as data_copied from hive.historical.full_products_django_content_type where dt = (select max(dt) from hive.historical.full_products_django_content_type where dt >= cast(current_date as varchar))\", \"insert into hive.products.django_migrations select *, cast('done' as varchar) as data_copied from hive.historical.full_products_django_migrations where dt = (select max(dt) from hive.historical.full_products_django_migrations where dt >= cast(current_date as varchar))\", \"insert into hive.products.driver_bag_colloection select *, cast('done' as varchar) as data_copied from hive.historical.full_products_driver_bag_colloection where dt = (select max(dt) from hive.historical.full_products_driver_bag_colloection where dt >= cast(current_date as varchar))\", \"insert into hive.products.driver_location select *, cast('done' as varchar) as data_copied from hive.historical.full_products_driver_location where dt = (select max(dt) from hive.historical.full_products_driver_location where dt >= cast(current_date as varchar))\", \"insert into hive.products.driver_transaction select *, cast('done' as varchar) as data_copied from hive.historical.full_products_driver_transaction where dt = (select max(dt) from hive.historical.full_products_driver_transaction where dt >= cast(current_date as varchar))\", \"insert into hive.products.dt_retailer_location_history select *, cast('done' as varchar) as data_copied from hive.historical.full_products_dt_retailer_location_history where dt = (select max(dt) from hive.historical.full_products_dt_retailer_location_history where dt >= cast(current_date as varchar))\", \"insert into hive.products.dt_route_mapping select *, cast('done' as varchar) as data_copied from hive.historical.full_products_dt_route_mapping where dt = (select max(dt) from hive.historical.full_products_dt_route_mapping where dt >= cast(current_date as varchar))\", \"insert into hive.products.group_product_mapping select *, cast('done' as varchar) as data_copied from hive.historical.full_products_group_product_mapping where dt = (select max(dt) from hive.historical.full_products_group_product_mapping where dt >= cast(current_date as varchar))\", \"insert into hive.products.inventory_trans_ledger select *, cast('done' as varchar) as data_copied from hive.historical.full_products_inventory_trans_ledger where dt = (select max(dt) from hive.historical.full_products_inventory_trans_ledger where dt >= cast(current_date as varchar))\", \"insert into hive.products.jmart_mapping select *, cast('done' as varchar) as data_copied from hive.historical.full_products_jmart_mapping where dt = (select max(dt) from hive.historical.full_products_jmart_mapping where dt >= cast(current_date as varchar))\", \"insert into hive.products.linked_products_mapping select *, cast('done' as varchar) as data_copied from hive.historical.full_products_linked_products_mapping where dt = (select max(dt) from hive.historical.full_products_linked_products_mapping where dt >= cast(current_date as varchar))\", \"insert into hive.products.locus_batch_plan select *, cast('done' as varchar) as data_copied from hive.historical.full_products_locus_batch_plan where dt = (select max(dt) from hive.historical.full_products_locus_batch_plan where dt >= cast(current_date as varchar))\", \"insert into hive.products.notification select *, cast('done' as varchar) as data_copied from hive.historical.full_products_notification where dt = (select max(dt) from hive.historical.full_products_notification where dt >= cast(current_date as varchar))\", \"insert into hive.products.packaging select *, cast('done' as varchar) as data_copied from hive.historical.full_products_packaging where dt = (select max(dt) from hive.historical.full_products_packaging where dt >= cast(current_date as varchar))\", \"insert into hive.products.packer_table_mapping select *, cast('done' as varchar) as data_copied from hive.historical.full_products_packer_table_mapping where dt = (select max(dt) from hive.historical.full_products_packer_table_mapping where dt >= cast(current_date as varchar))\", \"insert into hive.products.partner_incentive_sales select *, cast('done' as varchar) as data_copied from hive.historical.full_products_partner_incentive_sales where dt = (select max(dt) from hive.historical.full_products_partner_incentive_sales where dt >= cast(current_date as varchar))\", \"insert into hive.products.partner_kapture_data select *, cast('done' as varchar) as data_copied from hive.historical.full_products_partner_kapture_data where dt = (select max(dt) from hive.historical.full_products_partner_kapture_data where dt >= cast(current_date as varchar))\", \"insert into hive.products.price_deal select *, cast('done' as varchar) as data_copied from hive.historical.full_products_price_deal where dt = (select max(dt) from hive.historical.full_products_price_deal where dt >= cast(current_date as varchar))\", \"insert into hive.products.pricing_zone_dc_mapping select *, cast('done' as varchar) as data_copied from hive.historical.full_products_pricing_zone_dc_mapping where dt = (select max(dt) from hive.historical.full_products_pricing_zone_dc_mapping where dt >= cast(current_date as varchar))\", \"insert into hive.products.pricing_zone_polygon_mapping select *, cast('done' as varchar) as data_copied from hive.historical.full_products_pricing_zone_polygon_mapping where dt = (select max(dt) from hive.historical.full_products_pricing_zone_polygon_mapping where dt >= cast(current_date as varchar))\", \"insert into hive.products.product_dimensions select *, cast('done' as varchar) as data_copied from hive.historical.full_products_product_dimensions where dt = (select max(dt) from hive.historical.full_products_product_dimensions where dt >= cast(current_date as varchar))\", \"insert into hive.products.product_issue select *, cast('done' as varchar) as data_copied from hive.historical.full_products_product_issue where dt = (select max(dt) from hive.historical.full_products_product_issue where dt >= cast(current_date as varchar))\", \"insert into hive.products.product_ownership select *, cast('done' as varchar) as data_copied from hive.historical.full_products_product_ownership where dt = (select max(dt) from hive.historical.full_products_product_ownership where dt >= cast(current_date as varchar))\", \"insert into hive.products.product_quality_issue select *, cast('done' as varchar) as data_copied from hive.historical.full_products_product_quality_issue where dt = (select max(dt) from hive.historical.full_products_product_quality_issue where dt >= cast(current_date as varchar))\"]\n"
   ]
  },
  {
   "cell_type": "code",
   "execution_count": 221,
   "id": "8f048c40",
   "metadata": {},
   "outputs": [
    {
     "data": {
      "text/plain": [
       "\"insert into hive.products.bunch_packing_qc_mapping select *, cast('done' as varchar) as data_copied from hive.historical.full_products_bunch_packing_qc_mapping where dt = (select max(dt) from hive.historical.full_products_bunch_packing_qc_mapping where dt >= cast(current_date as varchar))\""
      ]
     },
     "execution_count": 221,
     "metadata": {},
     "output_type": "execute_result"
    }
   ],
   "source": [
    "insert_into[10]"
   ]
  }
 ],
 "metadata": {
  "kernelspec": {
   "display_name": "Python 3 (ipykernel)",
   "language": "python",
   "name": "python3"
  },
  "language_info": {
   "codemirror_mode": {
    "name": "ipython",
    "version": 3
   },
   "file_extension": ".py",
   "mimetype": "text/x-python",
   "name": "python",
   "nbconvert_exporter": "python",
   "pygments_lexer": "ipython3",
   "version": "3.10.4"
  }
 },
 "nbformat": 4,
 "nbformat_minor": 5
}
