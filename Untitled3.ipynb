{
 "cells": [
  {
   "cell_type": "code",
   "execution_count": 2,
   "id": "a9ef361d",
   "metadata": {},
   "outputs": [],
   "source": [
    "import mysql.connector\n",
    "def get_data_from_db(query):\n",
    "    conn = mysql.connector.connect(\n",
    "            host = \"readreplica.ci9kqv9mlekc.ap-south-1.rds.amazonaws.com\",\n",
    "            user = \"pikachu\",\n",
    "            passwd = \"crofarm123abc\",\n",
    "            )\n",
    "    cur = conn.cursor()\n",
    "    cur.execute(query)\n",
    "    rows = cur.fetchall()\n",
    "    print(rows)\n",
    "    return rows"
   ]
  },
  {
   "cell_type": "code",
   "execution_count": 8,
   "id": "78f469ff",
   "metadata": {},
   "outputs": [],
   "source": [
    "call_queries = ['''insert into temp_finance.comaplint_test select complaint_order_id, complaint_date,case when date_format(cd,\"%u\") = '00' then '53' else date_format(cd,\"%u\") end as wk,date_format(cd,\"%m\") as mnth, delivery_date,title, agent_id, partner_name, shop_name,consumer_id,consumer_name,phone,group_concat(prod_id) as product_ids, group_concat(prod_name) as product_names,refunded_on_order, RM, KAM,status,DC,sum(refund_amount) as refund_amount from(select tk.order_id as complaint_order_id,co.status,tk.n_slot_id as complaint_date,co.n_slot_id as delivery_date, concat('20',SUBSTRING(tk.n_slot_id,1,2),'/',SUBSTRING(tk.n_slot_id,3,2),'/', SUBSTRING(tk.n_slot_id,5,2)) as cd, tk.agent_id, cc.name as partner_name, cc.shop_name,tk.consumer_id, cn.name as consumer_name, cn.phone, od.prod_id, od.prod_name, od.price*od.quantity as prod_value,sd.title as title, tk.total_refunded as refunded_on_order, pbm.ba_id as RM, cba.name as KAM, case when co.distributor_id = 6 then 'Gurgaon' when co.distributor_id = 8 then 'Noida' when co.distributor_id = 13 then 'Mumbai' end as DC, it.refund_amount from consumer.cn_ticket tk inner join consumer.cn_issue_item it on it.ticket_id = tk.id inner join consumer.cn_order_data od on od.id = it.item_id inner join consumer.cn_issue sd on sd.id = it.issue_id inner join consumer.cn_order co on co.id = tk.order_id left join consumer.cn_consumer cn on co.consumer_id = cn.id left join crofarmUsers.cr_retailer cc on co.agent_id = cc.id left join crofarmUsers.cr_zone_polygon czp on cc.zone_polygon_id = czp.id left join crofarmUsers.cr_business_associate cba on cc.business_associate_id = cba.id left join crofarmUsers.partner_ba_mapping pbm on cc.id = pbm.retailer_id where tk.issue_type = 'item' and it.deleted = 0 and tk.n_slot_id = 220728 and co.n_slot_id = 220728 and sd.id in (4,1,5) and co.status in ('D','P','PU','RE') order by 1) A group by 1,title order by complaint_date asc''']"
   ]
  },
  {
   "cell_type": "code",
   "execution_count": 10,
   "id": "d68fea59",
   "metadata": {},
   "outputs": [
    {
     "data": {
      "text/plain": [
       "'insert into temp_finance.comaplint_test select complaint_order_id, complaint_date,case when date_format(cd,\"%u\") = \\'00\\' then \\'53\\' else date_format(cd,\"%u\") end as wk,date_format(cd,\"%m\") as mnth, delivery_date,title, agent_id, partner_name, shop_name,consumer_id,consumer_name,phone,group_concat(prod_id) as product_ids, group_concat(prod_name) as product_names,refunded_on_order, RM, KAM,status,DC,sum(refund_amount) as refund_amount from(select tk.order_id as complaint_order_id,co.status,tk.n_slot_id as complaint_date,co.n_slot_id as delivery_date, concat(\\'20\\',SUBSTRING(tk.n_slot_id,1,2),\\'/\\',SUBSTRING(tk.n_slot_id,3,2),\\'/\\', SUBSTRING(tk.n_slot_id,5,2)) as cd, tk.agent_id, cc.name as partner_name, cc.shop_name,tk.consumer_id, cn.name as consumer_name, cn.phone, od.prod_id, od.prod_name, od.price*od.quantity as prod_value,sd.title as title, tk.total_refunded as refunded_on_order, pbm.ba_id as RM, cba.name as KAM, case when co.distributor_id = 6 then \\'Gurgaon\\' when co.distributor_id = 8 then \\'Noida\\' when co.distributor_id = 13 then \\'Mumbai\\' end as DC, it.refund_amount from consumer.cn_ticket tk inner join consumer.cn_issue_item it on it.ticket_id = tk.id inner join consumer.cn_order_data od on od.id = it.item_id inner join consumer.cn_issue sd on sd.id = it.issue_id inner join consumer.cn_order co on co.id = tk.order_id left join consumer.cn_consumer cn on co.consumer_id = cn.id left join crofarmUsers.cr_retailer cc on co.agent_id = cc.id left join crofarmUsers.cr_zone_polygon czp on cc.zone_polygon_id = czp.id left join crofarmUsers.cr_business_associate cba on cc.business_associate_id = cba.id left join crofarmUsers.partner_ba_mapping pbm on cc.id = pbm.retailer_id where tk.issue_type = \\'item\\' and it.deleted = 0 and tk.n_slot_id = 220728 and co.n_slot_id = 220728 and sd.id in (4,1,5) and co.status in (\\'D\\',\\'P\\',\\'PU\\',\\'RE\\') order by 1) A group by 1,title order by complaint_date asc'"
      ]
     },
     "execution_count": 10,
     "metadata": {},
     "output_type": "execute_result"
    }
   ],
   "source": [
    "call_queries[0]"
   ]
  },
  {
   "cell_type": "code",
   "execution_count": 12,
   "id": "44ba0f7c",
   "metadata": {},
   "outputs": [
    {
     "name": "stdout",
     "output_type": "stream",
     "text": [
      "MySQLCursor: (Nothing executed yet)\n"
     ]
    },
    {
     "ename": "DatabaseError",
     "evalue": "1290 (HY000): The MySQL server is running with the --read-only option so it cannot execute this statement",
     "output_type": "error",
     "traceback": [
      "\u001b[1;31m---------------------------------------------------------------------------\u001b[0m",
      "\u001b[1;31mDatabaseError\u001b[0m                             Traceback (most recent call last)",
      "Input \u001b[1;32mIn [12]\u001b[0m, in \u001b[0;36m<cell line: 1>\u001b[1;34m()\u001b[0m\n\u001b[1;32m----> 1\u001b[0m \u001b[43mget_data_from_db\u001b[49m\u001b[43m(\u001b[49m\u001b[43mcall_queries\u001b[49m\u001b[43m[\u001b[49m\u001b[38;5;241;43m0\u001b[39;49m\u001b[43m]\u001b[49m\u001b[43m)\u001b[49m\n",
      "Input \u001b[1;32mIn [11]\u001b[0m, in \u001b[0;36mget_data_from_db\u001b[1;34m(query)\u001b[0m\n\u001b[0;32m      8\u001b[0m cur \u001b[38;5;241m=\u001b[39m conn\u001b[38;5;241m.\u001b[39mcursor()\n\u001b[0;32m      9\u001b[0m \u001b[38;5;28mprint\u001b[39m(cur)\n\u001b[1;32m---> 10\u001b[0m \u001b[43mcur\u001b[49m\u001b[38;5;241;43m.\u001b[39;49m\u001b[43mexecute\u001b[49m\u001b[43m(\u001b[49m\u001b[43mquery\u001b[49m\u001b[43m)\u001b[49m\n\u001b[0;32m     11\u001b[0m rows \u001b[38;5;241m=\u001b[39m cur\u001b[38;5;241m.\u001b[39mfetchall()\n\u001b[0;32m     12\u001b[0m \u001b[38;5;28mprint\u001b[39m(rows)\n",
      "File \u001b[1;32m~\\AppData\\Local\\Programs\\Python\\Python310\\lib\\site-packages\\mysql\\connector\\cursor.py:551\u001b[0m, in \u001b[0;36mMySQLCursor.execute\u001b[1;34m(self, operation, params, multi)\u001b[0m\n\u001b[0;32m    549\u001b[0m \u001b[38;5;28;01melse\u001b[39;00m:\n\u001b[0;32m    550\u001b[0m     \u001b[38;5;28;01mtry\u001b[39;00m:\n\u001b[1;32m--> 551\u001b[0m         \u001b[38;5;28mself\u001b[39m\u001b[38;5;241m.\u001b[39m_handle_result(\u001b[38;5;28;43mself\u001b[39;49m\u001b[38;5;241;43m.\u001b[39;49m\u001b[43m_connection\u001b[49m\u001b[38;5;241;43m.\u001b[39;49m\u001b[43mcmd_query\u001b[49m\u001b[43m(\u001b[49m\u001b[43mstmt\u001b[49m\u001b[43m)\u001b[49m)\n\u001b[0;32m    552\u001b[0m     \u001b[38;5;28;01mexcept\u001b[39;00m errors\u001b[38;5;241m.\u001b[39mInterfaceError:\n\u001b[0;32m    553\u001b[0m         \u001b[38;5;28;01mif\u001b[39;00m \u001b[38;5;28mself\u001b[39m\u001b[38;5;241m.\u001b[39m_connection\u001b[38;5;241m.\u001b[39m_have_next_result:  \u001b[38;5;66;03m# pylint: disable=W0212\u001b[39;00m\n",
      "File \u001b[1;32m~\\AppData\\Local\\Programs\\Python\\Python310\\lib\\site-packages\\mysql\\connector\\connection.py:490\u001b[0m, in \u001b[0;36mMySQLConnection.cmd_query\u001b[1;34m(self, query, raw, buffered, raw_as_string)\u001b[0m\n\u001b[0;32m    488\u001b[0m \u001b[38;5;28;01mif\u001b[39;00m \u001b[38;5;129;01mnot\u001b[39;00m \u001b[38;5;28misinstance\u001b[39m(query, \u001b[38;5;28mbytes\u001b[39m):\n\u001b[0;32m    489\u001b[0m     query \u001b[38;5;241m=\u001b[39m query\u001b[38;5;241m.\u001b[39mencode(\u001b[38;5;124m'\u001b[39m\u001b[38;5;124mutf-8\u001b[39m\u001b[38;5;124m'\u001b[39m)\n\u001b[1;32m--> 490\u001b[0m result \u001b[38;5;241m=\u001b[39m \u001b[38;5;28;43mself\u001b[39;49m\u001b[38;5;241;43m.\u001b[39;49m\u001b[43m_handle_result\u001b[49m\u001b[43m(\u001b[49m\u001b[38;5;28;43mself\u001b[39;49m\u001b[38;5;241;43m.\u001b[39;49m\u001b[43m_send_cmd\u001b[49m\u001b[43m(\u001b[49m\u001b[43mServerCmd\u001b[49m\u001b[38;5;241;43m.\u001b[39;49m\u001b[43mQUERY\u001b[49m\u001b[43m,\u001b[49m\u001b[43m \u001b[49m\u001b[43mquery\u001b[49m\u001b[43m)\u001b[49m\u001b[43m)\u001b[49m\n\u001b[0;32m    492\u001b[0m \u001b[38;5;28;01mif\u001b[39;00m \u001b[38;5;28mself\u001b[39m\u001b[38;5;241m.\u001b[39m_have_next_result:\n\u001b[0;32m    493\u001b[0m     \u001b[38;5;28;01mraise\u001b[39;00m errors\u001b[38;5;241m.\u001b[39mInterfaceError(\n\u001b[0;32m    494\u001b[0m         \u001b[38;5;124m'\u001b[39m\u001b[38;5;124mUse cmd_query_iter for statements with multiple queries.\u001b[39m\u001b[38;5;124m'\u001b[39m)\n",
      "File \u001b[1;32m~\\AppData\\Local\\Programs\\Python\\Python310\\lib\\site-packages\\mysql\\connector\\connection.py:395\u001b[0m, in \u001b[0;36mMySQLConnection._handle_result\u001b[1;34m(self, packet)\u001b[0m\n\u001b[0;32m    393\u001b[0m     \u001b[38;5;28;01mreturn\u001b[39;00m \u001b[38;5;28mself\u001b[39m\u001b[38;5;241m.\u001b[39m_handle_eof(packet)\n\u001b[0;32m    394\u001b[0m \u001b[38;5;28;01melif\u001b[39;00m packet[\u001b[38;5;241m4\u001b[39m] \u001b[38;5;241m==\u001b[39m \u001b[38;5;241m255\u001b[39m:\n\u001b[1;32m--> 395\u001b[0m     \u001b[38;5;28;01mraise\u001b[39;00m errors\u001b[38;5;241m.\u001b[39mget_exception(packet)\n\u001b[0;32m    397\u001b[0m \u001b[38;5;66;03m# We have a text result set\u001b[39;00m\n\u001b[0;32m    398\u001b[0m column_count \u001b[38;5;241m=\u001b[39m \u001b[38;5;28mself\u001b[39m\u001b[38;5;241m.\u001b[39m_protocol\u001b[38;5;241m.\u001b[39mparse_column_count(packet)\n",
      "\u001b[1;31mDatabaseError\u001b[0m: 1290 (HY000): The MySQL server is running with the --read-only option so it cannot execute this statement"
     ]
    }
   ],
   "source": [
    "get_data_from_db(call_queries[0])"
   ]
  },
  {
   "cell_type": "code",
   "execution_count": 3,
   "id": "8490bf69",
   "metadata": {},
   "outputs": [
    {
     "name": "stdout",
     "output_type": "stream",
     "text": [
      "[(2, 2, 2969, 6, 2, 'D', Decimal('465.00'), Decimal('0.00'), '', '06:00 AM - 02:00 PM, 17 JAN, FRI', 200117, Decimal('0.00'), '', 0, 0, 0, '1579118362019.0', 1, '', 1, datetime.datetime(2020, 1, 15, 19, 56, 16, 176517), 2, 0, None, Decimal('5.00'), 0, 0, '', 0, 1, 0, 0, 0, 0, Decimal('465.00'), '', 0, 0, 0, 0, 0, 0, '', '', '', 0, 0, 0, 0, '', None, 0), (3, 3, 2969, 6, 3, 'D', Decimal('162.00'), Decimal('0.00'), '', '06:00 AM - 02:00 PM, 17 JAN, FRI', 200117, Decimal('0.00'), '', 0, 0, 0, '1579115104412.0', 1, '', 1, datetime.datetime(2020, 1, 15, 21, 19, 35, 299442), 3, 0, None, Decimal('5.00'), 0, 0, '', 0, 1, 0, 0, 0, 0, Decimal('162.00'), '', 0, 0, 0, 0, 0, 0, '', '', '', 0, 0, 0, 0, '', None, 0), (4, 6, 3997, 6, 6, 'X', Decimal('802.00'), Decimal('0.00'), '', '06:00 AM - 02:00 PM, 18 JAN, SAT', 200116, Decimal('0.00'), '', 0, 0, 0, '1579162819088.0', 1, '', 1, datetime.datetime(2020, 1, 16, 8, 25, 7, 292579), 3, 0, None, Decimal('0.00'), 0, 0, '', 0, 1, 0, 0, 0, 0, Decimal('802.00'), '', 0, 0, 0, 0, 0, 0, '', '', '', 0, 0, 0, 0, '', None, 0), (5, 6, 3997, 6, 6, 'X', Decimal('1060.20'), Decimal('0.00'), '', '06:00 AM - 02:00 PM, 18 JAN, SAT', 200118, Decimal('0.00'), '', 0, 0, 0, '1579168117809.0', 0, '', 1, datetime.datetime(2020, 1, 16, 11, 40, 45, 591171), 9, 0, None, Decimal('0.00'), 0, 0, '', 0, 1, 0, 0, 0, 0, Decimal('1060.20'), '', 0, 0, 0, 0, 0, 0, '', '', '', 0, 0, 0, 0, '', None, 0), (6, 6, 3997, 6, 6, 'X', Decimal('128.00'), Decimal('0.00'), '', '06:00 AM - 02:00 PM, 19 JAN, SUN', 200119, Decimal('0.00'), '', 0, 0, 0, '1579175201536.0', 0, '', 1, datetime.datetime(2020, 1, 17, 10, 52, 42, 541009), 4, 0, None, Decimal('0.00'), 0, 0, '', 0, 1, 0, 0, 0, 0, Decimal('128.00'), '', 0, 0, 0, 0, 0, 0, '', '', '', 0, 0, 0, 0, '', None, 0), (7, 6, 3997, 6, 6, 'X', Decimal('1249.00'), Decimal('0.00'), '', '06:00 AM - 02:00 PM, 23 JAN, THU', 200121, Decimal('0.00'), '', 0, 0, 0, '1579610371513.0', 0, '', 1, datetime.datetime(2020, 1, 21, 9, 48, 15, 621330), 5, 0, None, Decimal('0.00'), 0, 0, '', 0, 1, 0, 0, 0, 0, Decimal('1249.00'), '', 0, 0, 0, 0, 0, 0, '', '', '', 0, 0, 0, 0, '', None, 0), (8, 22, 2969, 6, 22, 'D', Decimal('116.00'), Decimal('0.00'), '', '07:00 AM - 10:00 AM, 23 JAN, THU', 200121, Decimal('0.00'), '', 0, 0, 0, '1579157368939.0', 1, '', 1, datetime.datetime(2020, 1, 21, 15, 2, 21, 821706), 2, 0, None, Decimal('5.00'), 0, 0, '', 0, 1, 0, 0, 0, 0, Decimal('116.00'), '', 0, 0, 0, 0, 0, 0, '', '', '', 0, 0, 0, 0, '', None, 0), (9, 23, 4033, 6, 23, 'RE', Decimal('430.00'), Decimal('0.00'), '', '07:00 AM - 10:00 AM, 23 JAN, THU', 200123, Decimal('0.00'), '', 0, 0, 0, '1579627792775.0', 0, '', 1, datetime.datetime(2020, 1, 21, 17, 30, 21, 412850), 3, 0, None, Decimal('0.00'), 0, 0, '', 0, 1, 0, 0, 0, 0, Decimal('430.00'), '', 0, 0, 0, 0, 0, 0, '', '', '', 0, 0, 0, 0, '', None, 0), (10, 24, 4034, 6, 24, 'X', Decimal('429.00'), Decimal('0.00'), '', '07:00 AM - 10:00 AM, 23 JAN, THU', 200123, Decimal('0.00'), '', 0, 0, 0, '1579632604417.0', 1, '', 1, datetime.datetime(2020, 1, 21, 18, 19, 35, 860587), 2, 0, None, Decimal('0.00'), 0, 0, '', 0, 1, 0, 0, 0, 0, Decimal('429.00'), '', 0, 0, 0, 0, 0, 0, '', '', '', 0, 0, 0, 0, '', None, 0), (11, 22, 2969, 6, 22, 'X', Decimal('2516.00'), Decimal('0.00'), '', '07:00 AM - 10:00 AM, 23 JAN, THU', 200123, Decimal('0.00'), '', 0, 0, 0, '1579641741460.0', 0, '', 1, datetime.datetime(2020, 1, 21, 18, 39, 52, 981955), 6, 0, None, Decimal('0.00'), 0, 0, '', 0, 1, 0, 0, 0, 0, Decimal('2516.00'), '', 0, 0, 0, 0, 0, 0, '', '', '', 0, 0, 0, 0, '', None, 0)]\n"
     ]
    }
   ],
   "source": [
    "conn = mysql.connector.connect(\n",
    "        host = \"readreplica.ci9kqv9mlekc.ap-south-1.rds.amazonaws.com\",\n",
    "        user = \"pikachu\",\n",
    "        passwd = \"crofarm123abc\",\n",
    "        )\n",
    "cur = conn.cursor()\n",
    "cur.execute('select * from consumer.cn_order limit 10')\n",
    "rows = cur.fetchall()\n",
    "print(rows)\n"
   ]
  }
 ],
 "metadata": {
  "kernelspec": {
   "display_name": "Python 3 (ipykernel)",
   "language": "python",
   "name": "python3"
  },
  "language_info": {
   "codemirror_mode": {
    "name": "ipython",
    "version": 3
   },
   "file_extension": ".py",
   "mimetype": "text/x-python",
   "name": "python",
   "nbconvert_exporter": "python",
   "pygments_lexer": "ipython3",
   "version": "3.10.4"
  }
 },
 "nbformat": 4,
 "nbformat_minor": 5
}
