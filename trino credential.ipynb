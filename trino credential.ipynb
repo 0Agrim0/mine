{
 "cells": [
  {
   "cell_type": "code",
   "execution_count": 1,
   "id": "ee1faa2c",
   "metadata": {},
   "outputs": [],
   "source": [
    "import trino\n",
    "from trino.dbapi import connect\n",
    "conn1 = connect(host=\"presto.crofarm.com\",port=443,http_scheme='https',auth=trino.auth.BasicAuthentication(\"db.manager\",\"crofarm\"))\n",
    "cur1 = conn1.cursor()\n"
   ]
  },
  {
   "cell_type": "code",
   "execution_count": 52,
   "id": "99bda390",
   "metadata": {},
   "outputs": [
    {
     "ename": "ProgrammingError",
     "evalue": "1045 (28000): Access denied for user 'prakahar'@'173.0.0.216' (using password: YES)",
     "output_type": "error",
     "traceback": [
      "\u001b[1;31m---------------------------------------------------------------------------\u001b[0m",
      "\u001b[1;31mProgrammingError\u001b[0m                          Traceback (most recent call last)",
      "Input \u001b[1;32mIn [52]\u001b[0m, in \u001b[0;36m<cell line: 2>\u001b[1;34m()\u001b[0m\n\u001b[0;32m      1\u001b[0m \u001b[38;5;28;01mimport\u001b[39;00m \u001b[38;5;21;01mmysql\u001b[39;00m\u001b[38;5;21;01m.\u001b[39;00m\u001b[38;5;21;01mconnector\u001b[39;00m\n\u001b[1;32m----> 2\u001b[0m myconn \u001b[38;5;241m=\u001b[39m \u001b[43mmysql\u001b[49m\u001b[38;5;241;43m.\u001b[39;49m\u001b[43mconnector\u001b[49m\u001b[38;5;241;43m.\u001b[39;49m\u001b[43mconnect\u001b[49m\u001b[43m(\u001b[49m\u001b[43mhost\u001b[49m\u001b[43m \u001b[49m\u001b[38;5;241;43m=\u001b[39;49m\u001b[43m \u001b[49m\u001b[38;5;124;43m\"\u001b[39;49m\u001b[38;5;124;43mtango-read-nifi.ci9kqv9mlekc.ap-south-1.rds.amazonaws.com\u001b[39;49m\u001b[38;5;124;43m\"\u001b[39;49m\u001b[43m,\u001b[49m\n\u001b[0;32m      3\u001b[0m \u001b[43m                                 \u001b[49m\u001b[43muser\u001b[49m\u001b[43m \u001b[49m\u001b[38;5;241;43m=\u001b[39;49m\u001b[43m \u001b[49m\u001b[38;5;124;43m\"\u001b[39;49m\u001b[38;5;124;43mprakahar\u001b[39;49m\u001b[38;5;124;43m\"\u001b[39;49m\u001b[43m,\u001b[49m\u001b[43mpasswd\u001b[49m\u001b[43m \u001b[49m\u001b[38;5;241;43m=\u001b[39;49m\u001b[43m \u001b[49m\u001b[38;5;124;43m\"\u001b[39;49m\u001b[38;5;124;43motipy@123\u001b[39;49m\u001b[38;5;124;43m\"\u001b[39;49m\u001b[43m,\u001b[49m\u001b[43mdatabase\u001b[49m\u001b[43m \u001b[49m\u001b[38;5;241;43m=\u001b[39;49m\u001b[43m \u001b[49m\u001b[38;5;124;43m\"\u001b[39;49m\u001b[38;5;124;43mconsumer\u001b[39;49m\u001b[38;5;124;43m\"\u001b[39;49m\u001b[43m)\u001b[49m\n\u001b[0;32m      4\u001b[0m cur_mysql \u001b[38;5;241m=\u001b[39m myconn\u001b[38;5;241m.\u001b[39mcursor()\n",
      "File \u001b[1;32m~\\AppData\\Local\\Programs\\Python\\Python310\\lib\\site-packages\\mysql\\connector\\__init__.py:179\u001b[0m, in \u001b[0;36mconnect\u001b[1;34m(*args, **kwargs)\u001b[0m\n\u001b[0;32m    177\u001b[0m     \u001b[38;5;28;01mreturn\u001b[39;00m CMySQLConnection(\u001b[38;5;241m*\u001b[39margs, \u001b[38;5;241m*\u001b[39m\u001b[38;5;241m*\u001b[39mkwargs)\n\u001b[0;32m    178\u001b[0m \u001b[38;5;28;01melse\u001b[39;00m:\n\u001b[1;32m--> 179\u001b[0m     \u001b[38;5;28;01mreturn\u001b[39;00m MySQLConnection(\u001b[38;5;241m*\u001b[39margs, \u001b[38;5;241m*\u001b[39m\u001b[38;5;241m*\u001b[39mkwargs)\n",
      "File \u001b[1;32m~\\AppData\\Local\\Programs\\Python\\Python310\\lib\\site-packages\\mysql\\connector\\connection.py:95\u001b[0m, in \u001b[0;36mMySQLConnection.__init__\u001b[1;34m(self, *args, **kwargs)\u001b[0m\n\u001b[0;32m     92\u001b[0m \u001b[38;5;28mself\u001b[39m\u001b[38;5;241m.\u001b[39m_pool_config_version \u001b[38;5;241m=\u001b[39m \u001b[38;5;28;01mNone\u001b[39;00m\n\u001b[0;32m     94\u001b[0m \u001b[38;5;28;01mif\u001b[39;00m \u001b[38;5;28mlen\u001b[39m(kwargs) \u001b[38;5;241m>\u001b[39m \u001b[38;5;241m0\u001b[39m:\n\u001b[1;32m---> 95\u001b[0m     \u001b[38;5;28mself\u001b[39m\u001b[38;5;241m.\u001b[39mconnect(\u001b[38;5;241m*\u001b[39m\u001b[38;5;241m*\u001b[39mkwargs)\n",
      "File \u001b[1;32m~\\AppData\\Local\\Programs\\Python\\Python310\\lib\\site-packages\\mysql\\connector\\abstracts.py:716\u001b[0m, in \u001b[0;36mMySQLConnectionAbstract.connect\u001b[1;34m(self, **kwargs)\u001b[0m\n\u001b[0;32m    713\u001b[0m     \u001b[38;5;28mself\u001b[39m\u001b[38;5;241m.\u001b[39mconfig(\u001b[38;5;241m*\u001b[39m\u001b[38;5;241m*\u001b[39mkwargs)\n\u001b[0;32m    715\u001b[0m \u001b[38;5;28mself\u001b[39m\u001b[38;5;241m.\u001b[39mdisconnect()\n\u001b[1;32m--> 716\u001b[0m \u001b[38;5;28;43mself\u001b[39;49m\u001b[38;5;241;43m.\u001b[39;49m\u001b[43m_open_connection\u001b[49m\u001b[43m(\u001b[49m\u001b[43m)\u001b[49m\n\u001b[0;32m    717\u001b[0m \u001b[38;5;28mself\u001b[39m\u001b[38;5;241m.\u001b[39m_post_connection()\n",
      "File \u001b[1;32m~\\AppData\\Local\\Programs\\Python\\Python310\\lib\\site-packages\\mysql\\connector\\connection.py:208\u001b[0m, in \u001b[0;36mMySQLConnection._open_connection\u001b[1;34m(self)\u001b[0m\n\u001b[0;32m    206\u001b[0m \u001b[38;5;28mself\u001b[39m\u001b[38;5;241m.\u001b[39m_socket\u001b[38;5;241m.\u001b[39mopen_connection()\n\u001b[0;32m    207\u001b[0m \u001b[38;5;28mself\u001b[39m\u001b[38;5;241m.\u001b[39m_do_handshake()\n\u001b[1;32m--> 208\u001b[0m \u001b[38;5;28;43mself\u001b[39;49m\u001b[38;5;241;43m.\u001b[39;49m\u001b[43m_do_auth\u001b[49m\u001b[43m(\u001b[49m\u001b[38;5;28;43mself\u001b[39;49m\u001b[38;5;241;43m.\u001b[39;49m\u001b[43m_user\u001b[49m\u001b[43m,\u001b[49m\u001b[43m \u001b[49m\u001b[38;5;28;43mself\u001b[39;49m\u001b[38;5;241;43m.\u001b[39;49m\u001b[43m_password\u001b[49m\u001b[43m,\u001b[49m\n\u001b[0;32m    209\u001b[0m \u001b[43m              \u001b[49m\u001b[38;5;28;43mself\u001b[39;49m\u001b[38;5;241;43m.\u001b[39;49m\u001b[43m_database\u001b[49m\u001b[43m,\u001b[49m\u001b[43m \u001b[49m\u001b[38;5;28;43mself\u001b[39;49m\u001b[38;5;241;43m.\u001b[39;49m\u001b[43m_client_flags\u001b[49m\u001b[43m,\u001b[49m\u001b[43m \u001b[49m\u001b[38;5;28;43mself\u001b[39;49m\u001b[38;5;241;43m.\u001b[39;49m\u001b[43m_charset_id\u001b[49m\u001b[43m,\u001b[49m\n\u001b[0;32m    210\u001b[0m \u001b[43m              \u001b[49m\u001b[38;5;28;43mself\u001b[39;49m\u001b[38;5;241;43m.\u001b[39;49m\u001b[43m_ssl\u001b[49m\u001b[43m)\u001b[49m\n\u001b[0;32m    211\u001b[0m \u001b[38;5;28mself\u001b[39m\u001b[38;5;241m.\u001b[39mset_converter_class(\u001b[38;5;28mself\u001b[39m\u001b[38;5;241m.\u001b[39m_converter_class)\n\u001b[0;32m    212\u001b[0m \u001b[38;5;28;01mif\u001b[39;00m \u001b[38;5;28mself\u001b[39m\u001b[38;5;241m.\u001b[39m_client_flags \u001b[38;5;241m&\u001b[39m ClientFlag\u001b[38;5;241m.\u001b[39mCOMPRESS:\n",
      "File \u001b[1;32m~\\AppData\\Local\\Programs\\Python\\Python310\\lib\\site-packages\\mysql\\connector\\connection.py:144\u001b[0m, in \u001b[0;36mMySQLConnection._do_auth\u001b[1;34m(self, username, password, database, client_flags, charset, ssl_options)\u001b[0m\n\u001b[0;32m    137\u001b[0m packet \u001b[38;5;241m=\u001b[39m \u001b[38;5;28mself\u001b[39m\u001b[38;5;241m.\u001b[39m_protocol\u001b[38;5;241m.\u001b[39mmake_auth(\n\u001b[0;32m    138\u001b[0m     handshake\u001b[38;5;241m=\u001b[39m\u001b[38;5;28mself\u001b[39m\u001b[38;5;241m.\u001b[39m_handshake,\n\u001b[0;32m    139\u001b[0m     username\u001b[38;5;241m=\u001b[39musername, password\u001b[38;5;241m=\u001b[39mpassword, database\u001b[38;5;241m=\u001b[39mdatabase,\n\u001b[0;32m    140\u001b[0m     charset\u001b[38;5;241m=\u001b[39mcharset, client_flags\u001b[38;5;241m=\u001b[39mclient_flags,\n\u001b[0;32m    141\u001b[0m     ssl_enabled\u001b[38;5;241m=\u001b[39m\u001b[38;5;28mself\u001b[39m\u001b[38;5;241m.\u001b[39m_ssl_active,\n\u001b[0;32m    142\u001b[0m     auth_plugin\u001b[38;5;241m=\u001b[39m\u001b[38;5;28mself\u001b[39m\u001b[38;5;241m.\u001b[39m_auth_plugin)\n\u001b[0;32m    143\u001b[0m \u001b[38;5;28mself\u001b[39m\u001b[38;5;241m.\u001b[39m_socket\u001b[38;5;241m.\u001b[39msend(packet)\n\u001b[1;32m--> 144\u001b[0m \u001b[38;5;28;43mself\u001b[39;49m\u001b[38;5;241;43m.\u001b[39;49m\u001b[43m_auth_switch_request\u001b[49m\u001b[43m(\u001b[49m\u001b[43musername\u001b[49m\u001b[43m,\u001b[49m\u001b[43m \u001b[49m\u001b[43mpassword\u001b[49m\u001b[43m)\u001b[49m\n\u001b[0;32m    146\u001b[0m \u001b[38;5;28;01mif\u001b[39;00m \u001b[38;5;129;01mnot\u001b[39;00m (client_flags \u001b[38;5;241m&\u001b[39m ClientFlag\u001b[38;5;241m.\u001b[39mCONNECT_WITH_DB) \u001b[38;5;129;01mand\u001b[39;00m database:\n\u001b[0;32m    147\u001b[0m     \u001b[38;5;28mself\u001b[39m\u001b[38;5;241m.\u001b[39mcmd_init_db(database)\n",
      "File \u001b[1;32m~\\AppData\\Local\\Programs\\Python\\Python310\\lib\\site-packages\\mysql\\connector\\connection.py:177\u001b[0m, in \u001b[0;36mMySQLConnection._auth_switch_request\u001b[1;34m(self, username, password)\u001b[0m\n\u001b[0;32m    175\u001b[0m         auth_data \u001b[38;5;241m=\u001b[39m \u001b[38;5;28mself\u001b[39m\u001b[38;5;241m.\u001b[39m_protocol\u001b[38;5;241m.\u001b[39mparse_auth_more_data(packet)\n\u001b[0;32m    176\u001b[0m \u001b[38;5;28;01melif\u001b[39;00m packet[\u001b[38;5;241m4\u001b[39m] \u001b[38;5;241m==\u001b[39m \u001b[38;5;241m255\u001b[39m:\n\u001b[1;32m--> 177\u001b[0m     \u001b[38;5;28;01mraise\u001b[39;00m errors\u001b[38;5;241m.\u001b[39mget_exception(packet)\n",
      "\u001b[1;31mProgrammingError\u001b[0m: 1045 (28000): Access denied for user 'prakahar'@'173.0.0.216' (using password: YES)"
     ]
    }
   ],
   "source": [
    "import mysql.connector\n",
    "myconn = mysql.connector.connect(host = \"tango-read-nifi.ci9kqv9mlekc.ap-south-1.rds.amazonaws.com\",\n",
    "                                 user = \"prakahar\",passwd = \"otipy@123\",database = \"consumer\")\n",
    "cur_mysql = myconn.cursor()"
   ]
  },
  {
   "cell_type": "code",
   "execution_count": 2,
   "id": "71ef0ea7",
   "metadata": {},
   "outputs": [
    {
     "name": "stdout",
     "output_type": "stream",
     "text": [
      "[[True]]\n"
     ]
    }
   ],
   "source": [
    "# for i in range(len(a)):\n",
    "cur1.execute(\"CREATE TABLE IF NOT EXISTS hive.finance.recharge_code(s_no Integer, n_slot_id Integer, cust_id Integer, in_source varchar, coupon_code varchar, credit Decimal(8,2), table_check varchar, dt varchar) WITH(partitioned_by = array['dt'], external_location = 's3a://presto-prod-otipy/otipy-database/finance/recharge_code', format='ORC')\")\n",
    "print(cur1.fetchall())"
   ]
  },
  {
   "cell_type": "code",
   "execution_count": 4,
   "id": "f41c69cd",
   "metadata": {},
   "outputs": [],
   "source": [
    "a=['ut1_consumer_cn_order',\n",
    "'ut1_consumer_cn_order_data',\n",
    "'ut1_consumer_cn_paytm_transaction',\n",
    "'ut1_consumer_cn_payu_transaction',\n",
    "'ut1_consumer_cn_razorpay_transaction',\n",
    "'ut1_consumer_cn_ticket',\n",
    "'ut1_consumer_cn_wallet_transaction',\n",
    "'ut1_consumer_gokwik_transaction',\n",
    "'ut1_consumer_icici_transaction',\n",
    "'ut1_consumer_sodexo_transaction',\n",
    "'ut1_consumer_upi_transaction',\n",
    "'ut1_products_cr_order',\n",
    "'ut1_products_cr_order_data',\n",
    "'ut1_products_cr_purchase_order',\n",
    "'ut1_products_cr_purchase_order_data',\n",
    "'ut1_products_inventory_status',\n",
    "'ut1_products_paytm_transaction',\n",
    "'ut1_products_zone_product_deal']\n"
   ]
  }
 ],
 "metadata": {
  "kernelspec": {
   "display_name": "Python 3 (ipykernel)",
   "language": "python",
   "name": "python3"
  },
  "language_info": {
   "codemirror_mode": {
    "name": "ipython",
    "version": 3
   },
   "file_extension": ".py",
   "mimetype": "text/x-python",
   "name": "python",
   "nbconvert_exporter": "python",
   "pygments_lexer": "ipython3",
   "version": "3.10.4"
  }
 },
 "nbformat": 4,
 "nbformat_minor": 5
}
