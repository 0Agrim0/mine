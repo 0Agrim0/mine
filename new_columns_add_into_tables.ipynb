{
 "cells": [
  {
   "cell_type": "code",
   "execution_count": 2,
   "id": "9c3bcfa8",
   "metadata": {},
   "outputs": [
    {
     "name": "stdout",
     "output_type": "stream",
     "text": [
      "['bankRRN']\n",
      "consumer.cn_source_refund\n",
      "['BANKRRN', 'TxnInitDate', 'PayerVA', 'TxnCompletionDate']\n",
      "consumer.icici_transaction\n",
      "['transactionId', 'requestTime']\n",
      "consumer.sodexo_transaction\n",
      "['Fruit_closing_value', 'sec_Greens_opening_value', 'Exotic_margin_per', 'Exotic_margin', 'Fruit_opening_value', 'POT_margin', 'Exotic_opening_value', 'sec_POT_opening_value', 'sec_Exotic_opening_value', 'Greens_opening_value', 'sec_Exotic_closing_value', 'POT_margin_per', 'sec_Greens_closing_value', 'sec_Fruit_closing_value', 'Fruit_margin_per', 'POT_opening_value', 'Greens_margin', 'sec_POT_closing_value', 'Fruit_margin', 'Greens_closing_value', 'POT_closing_value', 'Greens_margin_per', 'sec_Fruit_opening_value', 'Exotic_closing_value']\n",
      "products.dc_metric\n"
     ]
    }
   ],
   "source": [
    "from collections import Counter\n",
    "import numpy as np\n",
    "import trino\n",
    "import pandas as pd\n",
    "##mysql connector\n",
    "import mysql.connector\n",
    "myconn = mysql.connector.connect(host = \"tango-read-nifi.ci9kqv9mlekc.ap-south-1.rds.amazonaws.com\",\n",
    "                                 user = \"prakhar\",passwd = \"otipy@1234\",database = \"consumer\")\n",
    "cur_mysql = myconn.cursor()\n",
    "\n",
    "\n",
    "##trino connector\n",
    "from trino.dbapi import connect\n",
    "conn = connect(host=\"presto.crofarm.com\",port=443,catalog='hive',http_scheme='https',auth=trino.auth.BasicAuthentication(\"db.manager\",\"crofarm\"))\n",
    "cur_trino = conn.cursor()\n",
    "\n",
    "\n",
    "trino_final_tables=[]\n",
    "schema=[\"consumer\",\"crofarmusers\",\"products\"]\n",
    "for i in range(len(schema)):\n",
    "    b=\"show tables from \"+schema[i]\n",
    "    cur_trino.execute(b)\n",
    "    trino_tables=cur_trino.fetchall()\n",
    "    for j in range(len(trino_tables)):\n",
    "        trino_final_tables.append(str(schema[i].lower())+\".\"+str(trino_tables[j][0].lower()))\n",
    "\n",
    "trino_final_tables.sort()\n",
    "\n",
    "mysql_final_tables=[]\n",
    "schema=[\"consumer\",\"crofarmUsers\",\"products\"]\n",
    "for i in range(len(schema)):\n",
    "    b=\"show tables from \"+schema[i]\n",
    "    cur_mysql.execute(b)\n",
    "    mysql_tables=cur_mysql.fetchall()\n",
    "    for j in range(len(mysql_tables)):\n",
    "        mysql_final_tables.append(str(schema[i].lower())+\".\"+str(mysql_tables[j][0].lower()))\n",
    "\n",
    "mysql_final_tables.sort()\n",
    "\n",
    "    \n",
    "not_present_in_trino=list(set(mysql_final_tables)-set(trino_final_tables))\n",
    "new_list=list(set(mysql_final_tables)-set(not_present_in_trino))\n",
    "new_list.sort()\n",
    "trino_final_tables.sort()\n",
    "\n",
    "columns=[]\n",
    "columns2=[]\n",
    "for i in range(len(new_list)):\n",
    "    if(new_list[i]==trino_final_tables[i]):\n",
    "        cur_mysql.execute(\"select COLUMN_NAME from information_schema.columns where `TABLE_SCHEMA`='\"+new_list[i].split('.')[0]+\"' and table_name ='\"+new_list[i].split('.')[1]+\"'\")\n",
    "        columns.append(cur_mysql.fetchall())\n",
    "        cur_trino.execute(\"select COLUMN_NAME from information_schema.columns where TABLE_SCHEMA='\"+trino_final_tables[i].split('.')[0]+\"' and table_name ='\"+trino_final_tables[i].split('.')[1]+\"'\")\n",
    "        columns2.append(cur_trino.fetchall())\n",
    "\n",
    "col=[]\n",
    "for i in range(len(columns)):\n",
    "    m=[]\n",
    "    for j in range(len(columns[i])):\n",
    "        m.append(columns[i][j][0])\n",
    "    col.append(m)\n",
    "    \n",
    "col2=[]\n",
    "for i in range(len(columns2)):\n",
    "    m=[]\n",
    "    for j in range(len(columns2[i])):\n",
    "        m.append(columns2[i][j][0])\n",
    "    col2.append(m)\n",
    "    \n",
    "change_table=[]\n",
    "dif_col=[]\n",
    "for i in range(len(col)):\n",
    "    dif_col.append((list(set(col[i])-set(col2[i]))))\n",
    "    a=(list(set(col[i])-set(col2[i])))\n",
    "    if(len(a)>0):\n",
    "        print(a)\n",
    "        print(new_list[i])\n",
    "        change_table.append(new_list[i])\n",
    "        \n",
    "diff_final=[]\n",
    "for i in range(len(dif_col)):\n",
    "    if(dif_col[i]==[]):\n",
    "        pass\n",
    "    else:\n",
    "        diff_final.append(dif_col[i])"
   ]
  },
  {
   "cell_type": "code",
   "execution_count": 255,
   "id": "e33d18a4",
   "metadata": {},
   "outputs": [
    {
     "name": "stdout",
     "output_type": "stream",
     "text": [
      "33\n"
     ]
    },
    {
     "data": {
      "text/plain": [
       "['consumer.cn_agent_first_order_performance',\n",
       " 'consumer.cn_agent_performance',\n",
       " 'consumer.cn_bonus_wallet_transaction',\n",
       " 'consumer.cn_consumer_property',\n",
       " 'consumer.cn_consumer_subscribed_products',\n",
       " 'consumer.cn_issue_delivery',\n",
       " 'consumer.cn_order_property',\n",
       " 'consumer.cn_picker',\n",
       " 'consumer.cn_source_refund',\n",
       " 'consumer.cn_wallet_coupon',\n",
       " 'consumer.delivery_rating',\n",
       " 'consumer.icici_transaction',\n",
       " 'consumer.order_data_property',\n",
       " 'consumer.order_delivery_info',\n",
       " 'consumer.partner_rejected_order',\n",
       " 'consumer.product_rating',\n",
       " 'consumer.route_line',\n",
       " 'consumer.sodexo_transaction',\n",
       " 'products.b2c_margin',\n",
       " 'products.bunch_packing_qc_mapping',\n",
       " 'products.bunch_table_packing',\n",
       " 'products.consumer_first_order',\n",
       " 'products.dc_metric',\n",
       " 'products.dt_route',\n",
       " 'products.dynamic_banners',\n",
       " 'products.partner_incentive_sales',\n",
       " 'products.product_sku_receiving_mapping',\n",
       " 'products.qc_bunch_mapping',\n",
       " 'products.sku_bunch',\n",
       " 'products.sku_receiving',\n",
       " 'products.zone_pricing',\n",
       " 'products.zone_product_deal',\n",
       " 'products.zone_subscribable_product']"
      ]
     },
     "execution_count": 255,
     "metadata": {},
     "output_type": "execute_result"
    }
   ],
   "source": [
    "print(len(change_table))\n",
    "change_table"
   ]
  },
  {
   "cell_type": "code",
   "execution_count": 281,
   "id": "5a1b886e",
   "metadata": {},
   "outputs": [
    {
     "data": {
      "text/plain": [
       "'consumer.cn_agent_first_order_performance'"
      ]
     },
     "execution_count": 281,
     "metadata": {},
     "output_type": "execute_result"
    }
   ],
   "source": [
    "change_table[0]"
   ]
  },
  {
   "cell_type": "code",
   "execution_count": 494,
   "id": "eea395cc",
   "metadata": {},
   "outputs": [
    {
     "data": {
      "text/plain": [
       "'consumer_cn_agent_first_order_performance'"
      ]
     },
     "execution_count": 494,
     "metadata": {},
     "output_type": "execute_result"
    }
   ],
   "source": [
    "('_').join(change_table[0].split('.'))"
   ]
  },
  {
   "cell_type": "code",
   "execution_count": 438,
   "id": "2d7f2e4a",
   "metadata": {},
   "outputs": [
    {
     "data": {
      "text/plain": [
       "33"
      ]
     },
     "execution_count": 438,
     "metadata": {},
     "output_type": "execute_result"
    }
   ],
   "source": [
    "len(diff_final)"
   ]
  },
  {
   "cell_type": "code",
   "execution_count": 3,
   "id": "8b7226f9",
   "metadata": {},
   "outputs": [],
   "source": [
    "f=[]\n",
    "for k in range(len(change_table)):\n",
    "    m=[]\n",
    "    n=[]\n",
    "    b={}\n",
    "    cur_mysql.execute(\"desc \"+str(change_table[k]))\n",
    "    a=(cur_mysql.fetchall())\n",
    "    for i in range(len(a)):\n",
    "        b[(a[i][0])]=a[i][1]\n",
    "    f.append(b)\n",
    "typ=[]\n",
    "for i in range(len(change_table)):\n",
    "    m=[]\n",
    "    for k in range(len(diff_final[i])):\n",
    "        if('int(11)' == f[i][diff_final[i][k]]):\n",
    "            m.append('int')\n",
    "        elif('varchar' in f[i][diff_final[i][k]]):\n",
    "            m.append('varchar')\n",
    "        elif('longtext' in f[i][diff_final[i][k]]):\n",
    "            m.append('varchar')\n",
    "        elif('tinyint' in f[i][diff_final[i][k]]):\n",
    "            m.append('boolean')\n",
    "        elif('datetime' in f[i][diff_final[i][k]]):\n",
    "            m.append('bigint')\n",
    "        else:\n",
    "            m.append(f[i][diff_final[i][k]])\n",
    "    typ.append(m)"
   ]
  },
  {
   "cell_type": "code",
   "execution_count": 4,
   "id": "b71fb4d1",
   "metadata": {},
   "outputs": [
    {
     "name": "stdout",
     "output_type": "stream",
     "text": [
      "True\n",
      "True\n",
      "True\n",
      "True\n"
     ]
    }
   ],
   "source": [
    "for i in range(len(diff_final)):\n",
    "    print(len(typ[i])==len(diff_final[i]))"
   ]
  },
  {
   "cell_type": "code",
   "execution_count": 5,
   "id": "d1629912",
   "metadata": {},
   "outputs": [
    {
     "data": {
      "text/plain": [
       "4"
      ]
     },
     "execution_count": 5,
     "metadata": {},
     "output_type": "execute_result"
    }
   ],
   "source": [
    "len(diff_final)"
   ]
  },
  {
   "cell_type": "code",
   "execution_count": 6,
   "id": "74b429a2",
   "metadata": {},
   "outputs": [
    {
     "data": {
      "text/plain": [
       "[['varchar'],\n",
       " ['varchar', 'varchar', 'varchar', 'varchar'],\n",
       " ['varchar', 'int'],\n",
       " ['decimal(8,1)',\n",
       "  'decimal(8,1)',\n",
       "  'decimal(8,1)',\n",
       "  'decimal(8,1)',\n",
       "  'decimal(8,1)',\n",
       "  'decimal(8,1)',\n",
       "  'decimal(8,1)',\n",
       "  'decimal(8,1)',\n",
       "  'decimal(8,1)',\n",
       "  'decimal(8,1)',\n",
       "  'decimal(8,1)',\n",
       "  'decimal(8,1)',\n",
       "  'decimal(8,1)',\n",
       "  'decimal(8,1)',\n",
       "  'decimal(8,1)',\n",
       "  'decimal(8,1)',\n",
       "  'decimal(8,1)',\n",
       "  'decimal(8,1)',\n",
       "  'decimal(8,1)',\n",
       "  'decimal(8,1)',\n",
       "  'decimal(8,1)',\n",
       "  'decimal(8,1)',\n",
       "  'decimal(8,1)',\n",
       "  'decimal(8,1)']]"
      ]
     },
     "execution_count": 6,
     "metadata": {},
     "output_type": "execute_result"
    }
   ],
   "source": [
    "typ"
   ]
  },
  {
   "cell_type": "code",
   "execution_count": 7,
   "id": "3dbc0973",
   "metadata": {},
   "outputs": [
    {
     "data": {
      "text/plain": [
       "4"
      ]
     },
     "execution_count": 7,
     "metadata": {},
     "output_type": "execute_result"
    }
   ],
   "source": [
    "len(change_table)"
   ]
  },
  {
   "cell_type": "markdown",
   "id": "55b6007d",
   "metadata": {},
   "source": [
    "## historical"
   ]
  },
  {
   "cell_type": "code",
   "execution_count": 497,
   "id": "b2a1ce58",
   "metadata": {},
   "outputs": [
    {
     "name": "stdout",
     "output_type": "stream",
     "text": [
      "ALTER TABLE IF EXISTS historical.consumer_cn_source_refund ADD COLUMN  IF NOT EXISTS  bankRRN int\n",
      "ALTER TABLE IF EXISTS historical.consumer_icici_transaction ADD COLUMN  IF NOT EXISTS  BANKRRN int\n",
      "ALTER TABLE IF EXISTS historical.consumer_icici_transaction ADD COLUMN  IF NOT EXISTS  TxnInitDate decimal(8,2)\n"
     ]
    },
    {
     "ename": "IndexError",
     "evalue": "list index out of range",
     "output_type": "error",
     "traceback": [
      "\u001b[1;31m---------------------------------------------------------------------------\u001b[0m",
      "\u001b[1;31mIndexError\u001b[0m                                Traceback (most recent call last)",
      "Input \u001b[1;32mIn [497]\u001b[0m, in \u001b[0;36m<cell line: 1>\u001b[1;34m()\u001b[0m\n\u001b[0;32m      1\u001b[0m \u001b[38;5;28;01mfor\u001b[39;00m i \u001b[38;5;129;01min\u001b[39;00m \u001b[38;5;28mrange\u001b[39m(\u001b[38;5;28mlen\u001b[39m(change_table)):\n\u001b[0;32m      2\u001b[0m     \u001b[38;5;28;01mfor\u001b[39;00m j \u001b[38;5;129;01min\u001b[39;00m \u001b[38;5;28mrange\u001b[39m(\u001b[38;5;28mlen\u001b[39m(diff_final[i])):\n\u001b[0;32m      3\u001b[0m \u001b[38;5;66;03m#         cur_trino.execute\u001b[39;00m\n\u001b[1;32m----> 4\u001b[0m         \u001b[38;5;28mprint\u001b[39m(\u001b[38;5;124m\"\u001b[39m\u001b[38;5;124mALTER TABLE IF EXISTS historical.\u001b[39m\u001b[38;5;124m\"\u001b[39m\u001b[38;5;241m+\u001b[39m(\u001b[38;5;124m'\u001b[39m\u001b[38;5;124m_\u001b[39m\u001b[38;5;124m'\u001b[39m)\u001b[38;5;241m.\u001b[39mjoin(change_table[i]\u001b[38;5;241m.\u001b[39msplit(\u001b[38;5;124m'\u001b[39m\u001b[38;5;124m.\u001b[39m\u001b[38;5;124m'\u001b[39m))\u001b[38;5;241m+\u001b[39m\u001b[38;5;124m\"\u001b[39m\u001b[38;5;124m ADD COLUMN  IF NOT EXISTS  \u001b[39m\u001b[38;5;124m\"\u001b[39m\u001b[38;5;241m+\u001b[39mdiff_final[i][j]\u001b[38;5;241m+\u001b[39m\u001b[38;5;124m\"\u001b[39m\u001b[38;5;124m \u001b[39m\u001b[38;5;124m\"\u001b[39m\u001b[38;5;241m+\u001b[39m\u001b[43mtyp\u001b[49m\u001b[43m[\u001b[49m\u001b[43mi\u001b[49m\u001b[43m]\u001b[49m\u001b[43m[\u001b[49m\u001b[43mj\u001b[49m\u001b[43m]\u001b[49m)\n",
      "\u001b[1;31mIndexError\u001b[0m: list index out of range"
     ]
    }
   ],
   "source": [
    "for i in range(len(change_table)):\n",
    "    for j in range(len(diff_final[i])):\n",
    "#         cur_trino.execute\n",
    "        print(\"ALTER TABLE IF EXISTS historical.\"+('_').join(change_table[i].split('.'))+\" ADD COLUMN  IF NOT EXISTS  \"+diff_final[i][j]+\" \"+typ[i][j])\n",
    "#         print(cur_trino.fetchall())"
   ]
  },
  {
   "cell_type": "markdown",
   "id": "9c311f7b",
   "metadata": {},
   "source": [
    "# live"
   ]
  },
  {
   "cell_type": "code",
   "execution_count": null,
   "id": "ae1176f9",
   "metadata": {},
   "outputs": [],
   "source": [
    "for i in range(len(change_table)):\n",
    "    for j in range(len(diff_final[i])):\n",
    "        print(\"ALTER TABLE IF EXISTS  \"+change_table[i]+\" ADD COLUMN  IF NOT EXISTS  \"+diff_final[i][j]+\" \"+typ[i][j])\n",
    "#         print(cur_trino.fetchall())"
   ]
  },
  {
   "cell_type": "code",
   "execution_count": null,
   "id": "36264e22",
   "metadata": {},
   "outputs": [],
   "source": [
    "ALTER TABLE IF EXISTS consumer.cn_bonus_wallet_transaction ADD COLUMN  IF NOT EXISTS  coupon_type VARCHAR"
   ]
  },
  {
   "cell_type": "markdown",
   "id": "08ae6e36",
   "metadata": {},
   "source": [
    "# Incremental_table want to change"
   ]
  },
  {
   "cell_type": "code",
   "execution_count": 455,
   "id": "c336a2d4",
   "metadata": {},
   "outputs": [
    {
     "name": "stdout",
     "output_type": "stream",
     "text": [
      "5\n"
     ]
    },
    {
     "data": {
      "text/plain": [
       "{'consumer.cn_bonus_wallet_transaction',\n",
       " 'consumer.cn_consumer_subscribed_products',\n",
       " 'consumer.cn_issue_delivery',\n",
       " 'consumer.cn_source_refund',\n",
       " 'consumer.delivery_rating'}"
      ]
     },
     "execution_count": 455,
     "metadata": {},
     "output_type": "execute_result"
    }
   ],
   "source": [
    "cur_trino.execute(\"show tables from historical like 'inc%'\")\n",
    "final=cur_trino.fetchall()\n",
    "full_load=[]\n",
    "for i in range(len(final)):\n",
    "    full_load.append(str(final[i][0]).split('_')[1:][0]+'.'+(str(('_').join(str(final[i][0]).split('_')[1:][1:]))))\n",
    "t=set(change_table)-set(full_load)\n",
    "final_inc=set(change_table)-set(t)\n",
    "print(len(final_inc))\n",
    "final_inc"
   ]
  },
  {
   "cell_type": "markdown",
   "id": "ed2662f9",
   "metadata": {},
   "source": [
    "# Update _table want to change"
   ]
  },
  {
   "cell_type": "code",
   "execution_count": 456,
   "id": "bed38220",
   "metadata": {},
   "outputs": [
    {
     "name": "stdout",
     "output_type": "stream",
     "text": [
      "4\n"
     ]
    },
    {
     "data": {
      "text/plain": [
       "{'consumer.cn_order_property',\n",
       " 'consumer.icici_transaction',\n",
       " 'consumer.sodexo_transaction',\n",
       " 'products.zone_product_deal'}"
      ]
     },
     "execution_count": 456,
     "metadata": {},
     "output_type": "execute_result"
    }
   ],
   "source": [
    "cur_trino.execute(\"show tables from historical like 'ut%'\")\n",
    "final=cur_trino.fetchall()\n",
    "full_load=[]\n",
    "for i in range(len(final)):\n",
    "    full_load.append(str(final[i][0]).split('_')[1:][0]+'.'+(str(('_').join(str(final[i][0]).split('_')[1:][1:]))))\n",
    "t=set(change_table)-set(full_load)\n",
    "final_ut=set(change_table)-set(t)\n",
    "print(len(final_ut))\n",
    "final_ut"
   ]
  },
  {
   "cell_type": "code",
   "execution_count": null,
   "id": "7aed5c53",
   "metadata": {},
   "outputs": [],
   "source": []
  },
  {
   "cell_type": "markdown",
   "id": "c32c1853",
   "metadata": {},
   "source": [
    "# full_load_table want to change"
   ]
  },
  {
   "cell_type": "code",
   "execution_count": 505,
   "id": "2b2c79ff",
   "metadata": {},
   "outputs": [
    {
     "name": "stdout",
     "output_type": "stream",
     "text": [
      "1\n"
     ]
    },
    {
     "data": {
      "text/plain": [
       "{'products.dc_metric'}"
      ]
     },
     "execution_count": 505,
     "metadata": {},
     "output_type": "execute_result"
    }
   ],
   "source": [
    "l=set(change_table)-set(final_ut)\n",
    "full_table=set(l)-set(final_inc)\n",
    "print(len(full_table))\n",
    "full_table"
   ]
  },
  {
   "cell_type": "code",
   "execution_count": 507,
   "id": "a4ae4954",
   "metadata": {},
   "outputs": [],
   "source": [
    "a=['consumer.cn_agent_first_order_performance',\n",
    " 'consumer.cn_agent_performance',\n",
    " 'consumer.cn_bonus_wallet_transaction',\n",
    " 'consumer.cn_consumer_property',\n",
    " 'consumer.cn_consumer_subscribed_products',\n",
    " 'consumer.cn_issue_delivery',\n",
    " 'consumer.cn_order_property',\n",
    " 'consumer.cn_picker',\n",
    " 'consumer.cn_source_refund',\n",
    " 'consumer.cn_wallet_coupon',\n",
    " 'consumer.delivery_rating',\n",
    " 'consumer.icici_transaction',\n",
    " 'consumer.order_data_property',\n",
    " 'consumer.order_delivery_info',\n",
    " 'consumer.partner_rejected_order',\n",
    " 'consumer.product_rating',\n",
    " 'consumer.route_line',\n",
    " 'consumer.sodexo_transaction',\n",
    " 'products.b2c_margin',\n",
    " 'products.bunch_packing_qc_mapping',\n",
    " 'products.bunch_table_packing',\n",
    " 'products.consumer_first_order',\n",
    " 'products.dc_metric',\n",
    " 'products.dt_route',\n",
    " 'products.dynamic_banners',\n",
    " 'products.partner_incentive_sales',\n",
    " 'products.product_sku_receiving_mapping',\n",
    " 'products.qc_bunch_mapping',\n",
    " 'products.sku_bunch',\n",
    " 'products.sku_receiving',\n",
    " 'products.zone_pricing',\n",
    " 'products.zone_product_deal',\n",
    " 'products.zone_subscribable_product']"
   ]
  },
  {
   "cell_type": "code",
   "execution_count": 512,
   "id": "aa5cf58b",
   "metadata": {},
   "outputs": [],
   "source": [
    "typ=[['int', 'decimal(8,2)'],\n",
    " ['int', 'decimal(8,2)'],\n",
    " ['varchar'],\n",
    " ['int', 'boolean', 'int', 'bigint', 'int', 'bigint'],\n",
    " ['int', 'int', 'int'],\n",
    " ['bigint', 'bigint'],\n",
    " ['bigint', 'bigint'],\n",
    " ['int'],\n",
    " ['varchar'],\n",
    " ['varchar', 'varchar'],\n",
    " ['int', 'int'],\n",
    " ['varchar', 'varchar', 'varchar', 'varchar'],\n",
    " ['bigint', 'bigint'],\n",
    " ['int'],\n",
    " ['varchar'],\n",
    " ['int'],\n",
    " ['int'],\n",
    " ['varchar', 'int'],\n",
    " ['decimal(6,3)'],\n",
    " ['int', 'varchar', 'varchar', 'varchar'],\n",
    " ['int',\n",
    "  'varchar',\n",
    "  'int',\n",
    "  'varchar',\n",
    "  'varchar',\n",
    "  'varchar',\n",
    "  'int',\n",
    "  'varchar',\n",
    "  'bigint',\n",
    "  'decimal(8,2)',\n",
    "  'bigint',\n",
    "  'int',\n",
    "  'int'],\n",
    " ['int'],\n",
    " ['decimal(8,1)',\n",
    "  'decimal(8,1)',\n",
    "  'decimal(8,1)',\n",
    "  'decimal(8,1)',\n",
    "  'decimal(8,1)',\n",
    "  'decimal(8,1)',\n",
    "  'decimal(8,1)',\n",
    "  'decimal(8,1)',\n",
    "  'decimal(8,1)',\n",
    "  'decimal(8,1)',\n",
    "  'decimal(8,1)',\n",
    "  'decimal(8,1)',\n",
    "  'decimal(8,1)',\n",
    "  'decimal(8,1)',\n",
    "  'decimal(8,1)',\n",
    "  'decimal(8,1)',\n",
    "  'decimal(8,1)',\n",
    "  'decimal(8,1)',\n",
    "  'decimal(8,1)',\n",
    "  'decimal(8,1)',\n",
    "  'decimal(8,1)',\n",
    "  'decimal(8,1)',\n",
    "  'decimal(8,1)',\n",
    "  'decimal(8,1)'],\n",
    " ['bigint', 'bigint'],\n",
    " ['int', 'varchar', 'int', 'int'],\n",
    " ['decimal(14,2)', 'decimal(14,2)'],\n",
    " ['boolean', 'boolean'],\n",
    " ['int', 'varchar', 'varchar', 'varchar', 'varchar', 'varchar', 'int'],\n",
    " ['varchar',\n",
    "  'int',\n",
    "  'varchar',\n",
    "  'varchar',\n",
    "  'int',\n",
    "  'varchar',\n",
    "  'varchar',\n",
    "  'int',\n",
    "  'int',\n",
    "  'int'],\n",
    " ['varchar'],\n",
    " ['int', 'int'],\n",
    " ['int', 'int'],\n",
    " ['int', 'boolean']]"
   ]
  },
  {
   "cell_type": "code",
   "execution_count": 514,
   "id": "3eb0b6df",
   "metadata": {},
   "outputs": [],
   "source": [
    "d=[['orders_delivered_by_six_thirty_am', 'six_thirty_am_delivery_per'],\n",
    " ['orders_delivered_by_six_thirty_am', 'six_thirty_am_delivery_per'],\n",
    " ['membership_end_slot',\n",
    "  'welcome_bonus_expired',\n",
    "  'membership_id',\n",
    "  'created_at',\n",
    "  'delivery_preference',\n",
    "  'updated_at'],\n",
    " ['picker_type'],\n",
    " ['coupon_type', 'consumer_list'],\n",
    " ['updated_at', 'created_at'],\n",
    " ['time_diff'],\n",
    " ['action'],\n",
    " ['order_id'],\n",
    " ['line_type'],\n",
    " ['otp', 'otp_sent_time', 'email_status'],\n",
    " ['supplier_id', 'supplier_name', 'prod_name', 'image_id'],\n",
    " ['supplier_id',\n",
    "  'crate_info',\n",
    "  'machine_id',\n",
    "  'prod_name',\n",
    "  'child_prod_name',\n",
    "  'image_id',\n",
    "  'total_packed_crates',\n",
    "  'supplier_name',\n",
    "  'packing_resume_time',\n",
    "  'child_in_kg',\n",
    "  'packing_paused_time',\n",
    "  'pause_status',\n",
    "  'total_crates_assigned'],\n",
    " ['Fruit_closing_value',\n",
    "  'sec_Greens_opening_value',\n",
    "  'Exotic_margin_per',\n",
    "  'Exotic_margin',\n",
    "  'Fruit_opening_value',\n",
    "  'POT_margin',\n",
    "  'Exotic_opening_value',\n",
    "  'sec_POT_opening_value',\n",
    "  'sec_Exotic_opening_value',\n",
    "  'Greens_opening_value',\n",
    "  'sec_Exotic_closing_value',\n",
    "  'POT_margin_per',\n",
    "  'sec_Greens_closing_value',\n",
    "  'sec_Fruit_closing_value',\n",
    "  'Fruit_margin_per',\n",
    "  'POT_opening_value',\n",
    "  'Greens_margin',\n",
    "  'sec_POT_closing_value',\n",
    "  'Fruit_margin',\n",
    "  'Greens_closing_value',\n",
    "  'POT_closing_value',\n",
    "  'Greens_margin_per',\n",
    "  'sec_Fruit_opening_value',\n",
    "  'Exotic_closing_value'],\n",
    " ['partnerbalance', 'consumer_reactivation'],\n",
    " ['is_cold', 'is_disassembler'],\n",
    " ['prod_name',\n",
    "  'supplier_id',\n",
    "  'qr_code',\n",
    "  'bunch_type',\n",
    "  'total_crates',\n",
    "  'image_id',\n",
    "  'supplier_name',\n",
    "  'n_slot_id',\n",
    "  'total_floor_crates',\n",
    "  'total_cold_crates'],\n",
    " ['supplier_name'],\n",
    " ['substitute_prod_id', 'deactivated_at'],\n",
    " ['unit_price', 'monthly_pack']]"
   ]
  },
  {
   "cell_type": "code",
   "execution_count": 515,
   "id": "7bdf86e6",
   "metadata": {},
   "outputs": [
    {
     "data": {
      "text/plain": [
       "20"
      ]
     },
     "execution_count": 515,
     "metadata": {},
     "output_type": "execute_result"
    }
   ],
   "source": [
    "len(d)"
   ]
  },
  {
   "cell_type": "code",
   "execution_count": 516,
   "id": "00da9260",
   "metadata": {},
   "outputs": [
    {
     "data": {
      "text/plain": [
       "33"
      ]
     },
     "execution_count": 516,
     "metadata": {},
     "output_type": "execute_result"
    }
   ],
   "source": [
    "len(typ)"
   ]
  },
  {
   "cell_type": "code",
   "execution_count": 511,
   "id": "1545a1be",
   "metadata": {},
   "outputs": [
    {
     "data": {
      "text/plain": [
       "'full_consumer_cn_agent_first_order_performance'"
      ]
     },
     "execution_count": 511,
     "metadata": {},
     "output_type": "execute_result"
    }
   ],
   "source": [
    "'full_'+\"_\".join(a[0].split('.'))"
   ]
  },
  {
   "cell_type": "code",
   "execution_count": 513,
   "id": "66655cad",
   "metadata": {},
   "outputs": [
    {
     "name": "stdout",
     "output_type": "stream",
     "text": [
      "ALTER TABLE IF EXISTS historical.full_consumer_cn_agent_first_order_performance ADD COLUMN  IF NOT EXISTS  bankRRN int\n",
      "ALTER TABLE IF EXISTS historical.full_consumer_cn_agent_first_order_performance ADD COLUMN  IF NOT EXISTS  BANKRRN int\n",
      "ALTER TABLE IF EXISTS historical.full_consumer_cn_agent_first_order_performance ADD COLUMN  IF NOT EXISTS  TxnInitDate decimal(8,2)\n"
     ]
    },
    {
     "ename": "IndexError",
     "evalue": "list index out of range",
     "output_type": "error",
     "traceback": [
      "\u001b[1;31m---------------------------------------------------------------------------\u001b[0m",
      "\u001b[1;31mIndexError\u001b[0m                                Traceback (most recent call last)",
      "Input \u001b[1;32mIn [513]\u001b[0m, in \u001b[0;36m<cell line: 1>\u001b[1;34m()\u001b[0m\n\u001b[0;32m      1\u001b[0m \u001b[38;5;28;01mfor\u001b[39;00m i \u001b[38;5;129;01min\u001b[39;00m \u001b[38;5;28mrange\u001b[39m(\u001b[38;5;28mlen\u001b[39m(change_table)):\n\u001b[0;32m      2\u001b[0m     \u001b[38;5;28;01mfor\u001b[39;00m j \u001b[38;5;129;01min\u001b[39;00m \u001b[38;5;28mrange\u001b[39m(\u001b[38;5;28mlen\u001b[39m(diff_final[i])):\n\u001b[0;32m      3\u001b[0m \u001b[38;5;66;03m#         cur_trino.execute\u001b[39;00m\n\u001b[1;32m----> 4\u001b[0m         \u001b[38;5;28mprint\u001b[39m(\u001b[38;5;124m\"\u001b[39m\u001b[38;5;124mALTER TABLE IF EXISTS historical.full_\u001b[39m\u001b[38;5;124m\"\u001b[39m\u001b[38;5;241m+\u001b[39m\u001b[38;5;124m\"\u001b[39m\u001b[38;5;124m_\u001b[39m\u001b[38;5;124m\"\u001b[39m\u001b[38;5;241m.\u001b[39mjoin(a[\u001b[38;5;241m0\u001b[39m]\u001b[38;5;241m.\u001b[39msplit(\u001b[38;5;124m'\u001b[39m\u001b[38;5;124m.\u001b[39m\u001b[38;5;124m'\u001b[39m))\u001b[38;5;241m+\u001b[39m\u001b[38;5;124m\"\u001b[39m\u001b[38;5;124m ADD COLUMN  IF NOT EXISTS  \u001b[39m\u001b[38;5;124m\"\u001b[39m\u001b[38;5;241m+\u001b[39mdiff_final[i][j]\u001b[38;5;241m+\u001b[39m\u001b[38;5;124m\"\u001b[39m\u001b[38;5;124m \u001b[39m\u001b[38;5;124m\"\u001b[39m\u001b[38;5;241m+\u001b[39m\u001b[43mtyp\u001b[49m\u001b[43m[\u001b[49m\u001b[43mi\u001b[49m\u001b[43m]\u001b[49m\u001b[43m[\u001b[49m\u001b[43mj\u001b[49m\u001b[43m]\u001b[49m)\n",
      "\u001b[1;31mIndexError\u001b[0m: list index out of range"
     ]
    }
   ],
   "source": [
    "for i in range(len(change_table)):\n",
    "    for j in range(len(diff_final[i])):\n",
    "#         cur_trino.execute\n",
    "        print(\"ALTER TABLE IF EXISTS historical.full_\"+\"_\".join(a[0].split('.'))+\" ADD COLUMN  IF NOT EXISTS  \"+diff_final[i][j]+\" \"+typ[i][j])\n",
    "#         print(cur_trino.fetchall())"
   ]
  },
  {
   "cell_type": "code",
   "execution_count": 245,
   "id": "349df176",
   "metadata": {},
   "outputs": [
    {
     "data": {
      "text/plain": [
       "True"
      ]
     },
     "execution_count": 245,
     "metadata": {},
     "output_type": "execute_result"
    }
   ],
   "source": [
    "len(change_table)==len(inc_table)+len(final_ut)+len(final_inc)"
   ]
  },
  {
   "cell_type": "code",
   "execution_count": null,
   "id": "2f592e53",
   "metadata": {},
   "outputs": [],
   "source": [
    "ALTER TABLE IF EXISTS consumer.cn_bonus_wallet_transaction ADD COLUMN  IF NOT EXISTS  coupon_type VARCHAR"
   ]
  }
 ],
 "metadata": {
  "kernelspec": {
   "display_name": "Python 3 (ipykernel)",
   "language": "python",
   "name": "python3"
  },
  "language_info": {
   "codemirror_mode": {
    "name": "ipython",
    "version": 3
   },
   "file_extension": ".py",
   "mimetype": "text/x-python",
   "name": "python",
   "nbconvert_exporter": "python",
   "pygments_lexer": "ipython3",
   "version": "3.10.4"
  }
 },
 "nbformat": 4,
 "nbformat_minor": 5
}
