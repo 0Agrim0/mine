{
 "cells": [
  {
   "cell_type": "markdown",
   "id": "8c443b01",
   "metadata": {},
   "source": [
    "# consumerdb"
   ]
  },
  {
   "cell_type": "code",
   "execution_count": 20,
   "id": "251a7770",
   "metadata": {},
   "outputs": [],
   "source": [
    "import pyspark "
   ]
  },
  {
   "cell_type": "code",
   "execution_count": 1,
   "id": "6ff7728b",
   "metadata": {},
   "outputs": [],
   "source": [
    "df = sqlContext.read.format('orc').load(\"2022-09-19.orc\")"
   ]
  },
  {
   "cell_type": "code",
   "execution_count": 2,
   "id": "0c90519c",
   "metadata": {},
   "outputs": [
    {
     "data": {
      "text/plain": [
       "DataFrame[s_no: int, n_slot_id: int, cust_id: int, in_source: string, coupon_code: string, credit: decimal(8,2), table_check: string, dt: string]"
      ]
     },
     "execution_count": 2,
     "metadata": {},
     "output_type": "execute_result"
    }
   ],
   "source": [
    "df"
   ]
  },
  {
   "cell_type": "code",
   "execution_count": 22,
   "id": "09a87d1a",
   "metadata": {},
   "outputs": [
    {
     "name": "stdout",
     "output_type": "stream",
     "text": [
      "root\n",
      " |-- id: integer (nullable = true)\n",
      " |-- agent_id: integer (nullable = true)\n",
      " |-- n_slot_id: integer (nullable = true)\n",
      " |-- agent_total_order: integer (nullable = true)\n",
      " |-- seven_am_delivery_per: decimal(8,2) (nullable = true)\n",
      " |-- eight_am_delivery_per: decimal(8,2) (nullable = true)\n",
      " |-- nine_am_delivery_per: decimal(8,2) (nullable = true)\n",
      " |-- nine_thirty_am_delivery_per: decimal(8,2) (nullable = true)\n",
      " |-- ten_am_delivery_per: decimal(8,2) (nullable = true)\n",
      " |-- delivery_complaint_per: decimal(8,2) (nullable = true)\n",
      " |-- start_slot: integer (nullable = true)\n",
      " |-- end_slot: integer (nullable = true)\n",
      " |-- orders_delivered_by_seven_am: integer (nullable = true)\n",
      " |-- orders_delivered_by_eight_am: integer (nullable = true)\n",
      " |-- orders_delivered_by_nine_am: integer (nullable = true)\n",
      " |-- orders_delivered_by_nine_thirty_am: integer (nullable = true)\n",
      " |-- orders_delivered_by_ten_am: integer (nullable = true)\n",
      " |-- total_order_complaints: integer (nullable = true)\n",
      " |-- eight_am_disposition_per: decimal(8,2) (nullable = true)\n",
      " |-- orders_delivered_by_six_thirty_am: integer (nullable = true)\n",
      " |-- six_thirty_am_delivery_per: decimal(8,2) (nullable = true)\n",
      "\n"
     ]
    }
   ],
   "source": [
    "df.printSchema()"
   ]
  },
  {
   "cell_type": "code",
   "execution_count": 4,
   "id": "8d3a2a88",
   "metadata": {
    "scrolled": true
   },
   "outputs": [
    {
     "name": "stdout",
     "output_type": "stream",
     "text": [
      "+---+--------+---------+-----------------+---------------------+---------------------+--------------------+---------------------------+-------------------+----------------------+----------+--------+----------------------------+----------------------------+---------------------------+----------------------------------+--------------------------+----------------------+------------------------+---------------------------------+--------------------------+\n",
      "|id |agent_id|n_slot_id|agent_total_order|seven_am_delivery_per|eight_am_delivery_per|nine_am_delivery_per|nine_thirty_am_delivery_per|ten_am_delivery_per|delivery_complaint_per|start_slot|end_slot|orders_delivered_by_seven_am|orders_delivered_by_eight_am|orders_delivered_by_nine_am|orders_delivered_by_nine_thirty_am|orders_delivered_by_ten_am|total_order_complaints|eight_am_disposition_per|orders_delivered_by_six_thirty_am|six_thirty_am_delivery_per|\n",
      "+---+--------+---------+-----------------+---------------------+---------------------+--------------------+---------------------------+-------------------+----------------------+----------+--------+----------------------------+----------------------------+---------------------------+----------------------------------+--------------------------+----------------------+------------------------+---------------------------------+--------------------------+\n",
      "|1  |43      |220615   |1                |100.00               |100.00               |100.00              |100.00                     |100.00             |0.00                  |220613    |220619  |1                           |1                           |1                          |1                                 |1                         |0                     |0.00                    |0                                |0.00                      |\n",
      "+---+--------+---------+-----------------+---------------------+---------------------+--------------------+---------------------------+-------------------+----------------------+----------+--------+----------------------------+----------------------------+---------------------------+----------------------------------+--------------------------+----------------------+------------------------+---------------------------------+--------------------------+\n",
      "only showing top 1 row\n",
      "\n"
     ]
    }
   ],
   "source": [
    "df.show(n=1,truncate=False)"
   ]
  },
  {
   "cell_type": "code",
   "execution_count": 19,
   "id": "d30eb6b5",
   "metadata": {
    "scrolled": true
   },
   "outputs": [
    {
     "name": "stdout",
     "output_type": "stream",
     "text": [
      "CREATE TABLE IF NOT EXISTS hive.historical.full_temp_finance_sub1(\n",
      "id Integer,\n",
      "agent_id Integer,\n",
      "n_slot_id Integer,\n",
      "agent_total_order Integer,\n"
     ]
    },
    {
     "ename": "TypeError",
     "evalue": "can only concatenate str (not \"list\") to str",
     "output_type": "error",
     "traceback": [
      "\u001b[1;31m---------------------------------------------------------------------------\u001b[0m",
      "\u001b[1;31mTypeError\u001b[0m                                 Traceback (most recent call last)",
      "Input \u001b[1;32mIn [19]\u001b[0m, in \u001b[0;36m<cell line: 4>\u001b[1;34m()\u001b[0m\n\u001b[0;32m      6\u001b[0m     \u001b[38;5;28mprint\u001b[39m(\u001b[38;5;28mstr\u001b[39m(i)\u001b[38;5;241m+\u001b[39m\u001b[38;5;124m\"\u001b[39m\u001b[38;5;124m  varchar,\u001b[39m\u001b[38;5;124m\"\u001b[39m)\n\u001b[0;32m      7\u001b[0m \u001b[38;5;28;01mif\u001b[39;00m((\u001b[38;5;28mstr\u001b[39m(df\u001b[38;5;241m.\u001b[39mschema[i]\u001b[38;5;241m.\u001b[39mdataType)[:\u001b[38;5;28mlen\u001b[39m(\u001b[38;5;28mstr\u001b[39m(df\u001b[38;5;241m.\u001b[39mschema[i]\u001b[38;5;241m.\u001b[39mdataType))\u001b[38;5;241m-\u001b[39m\u001b[38;5;241m9\u001b[39m])\u001b[38;5;241m==\u001b[39m\u001b[38;5;124m'\u001b[39m\u001b[38;5;124mDecimal\u001b[39m\u001b[38;5;124m'\u001b[39m):\n\u001b[1;32m----> 8\u001b[0m     \u001b[38;5;28mprint\u001b[39m(\u001b[38;5;28;43mstr\u001b[39;49m\u001b[43m(\u001b[49m\u001b[43mi\u001b[49m\u001b[43m)\u001b[49m\u001b[38;5;241;43m+\u001b[39;49m\u001b[38;5;124;43m\"\u001b[39;49m\u001b[38;5;124;43m \u001b[39;49m\u001b[38;5;124;43m\"\u001b[39;49m\u001b[38;5;241;43m+\u001b[39;49m\u001b[38;5;28;43mstr\u001b[39;49m\u001b[43m(\u001b[49m\u001b[43mdf\u001b[49m\u001b[38;5;241;43m.\u001b[39;49m\u001b[43mschema\u001b[49m\u001b[43m[\u001b[49m\u001b[43mi\u001b[49m\u001b[43m]\u001b[49m\u001b[38;5;241;43m.\u001b[39;49m\u001b[43mdataType\u001b[49m\u001b[43m)\u001b[49m\u001b[38;5;241;43m.\u001b[39;49m\u001b[43msplit\u001b[49m\u001b[43m(\u001b[49m\u001b[38;5;124;43m\"\u001b[39;49m\u001b[38;5;124;43mType\u001b[39;49m\u001b[38;5;124;43m\"\u001b[39;49m\u001b[43m)\u001b[49m)\n\u001b[0;32m      9\u001b[0m \u001b[38;5;28;01melse\u001b[39;00m:\n\u001b[0;32m     10\u001b[0m     \u001b[38;5;28mprint\u001b[39m(\u001b[38;5;28mstr\u001b[39m(i)\u001b[38;5;241m+\u001b[39m\u001b[38;5;124m\"\u001b[39m\u001b[38;5;124m \u001b[39m\u001b[38;5;124m\"\u001b[39m\u001b[38;5;241m+\u001b[39m(\u001b[38;5;28mstr\u001b[39m(df\u001b[38;5;241m.\u001b[39mschema[i]\u001b[38;5;241m.\u001b[39mdataType)[:\u001b[38;5;28mlen\u001b[39m(\u001b[38;5;28mstr\u001b[39m(df\u001b[38;5;241m.\u001b[39mschema[i]\u001b[38;5;241m.\u001b[39mdataType))\u001b[38;5;241m-\u001b[39m\u001b[38;5;241m4\u001b[39m])\u001b[38;5;241m+\u001b[39m\u001b[38;5;124m\"\u001b[39m\u001b[38;5;124m,\u001b[39m\u001b[38;5;124m\"\u001b[39m)\n",
      "\u001b[1;31mTypeError\u001b[0m: can only concatenate str (not \"list\") to str"
     ]
    }
   ],
   "source": [
    "df = sqlContext.read.format('orc').load(\"9f7e79d0-db28-4bbd-9777-c0c29ea759bf.orc\")\n",
    "table_name = 'sub1'\n",
    "print(\"CREATE TABLE IF NOT EXISTS hive.historical.full_temp_finance_\"+str(table_name)+\"(\")\n",
    "for i in df.columns:\n",
    "    if((str(df.schema[i].dataType)[:len(str(df.schema[i].dataType))-4])=='String'):\n",
    "        print(str(i)+\"  varchar,\")\n",
    "    if((str(df.schema[i].dataType)[:len(str(df.schema[i].dataType))-9])=='Decimal'):\n",
    "        print(str(i)+\" \"+str(df.schema[i].dataType).split(\"Type\"))\n",
    "    else:\n",
    "        print(str(i)+\" \"+(str(df.schema[i].dataType)[:len(str(df.schema[i].dataType))-4])+\",\")\n",
    "print(\"dt varchar\")\n",
    "print(\")\")\n",
    "print(\"WITH( partitioned_by = array['dt'],\")\n",
    "print(\"external_location = 's3a://presto-prod-otipy/otipy-database/backup-full-load/temp_finance/\"+str(table_name)+\"',\")\n",
    "print(\"format='ORC');\")\n",
    "print(\"\")\n",
    "print(\"CALL system.sync_partition_metadata(schema_name=>'historical', table_name=>'\"+str(table_name)+\"', mode=>'FULL');\")"
   ]
  },
  {
   "cell_type": "code",
   "execution_count": 32,
   "id": "f85c369b",
   "metadata": {},
   "outputs": [],
   "source": [
    "call=[\"CALL system.sync_partition_metadata(schema_name=>'historical', table_name=>'full_temp_finance_sub1', mode=>'FULL')\"]"
   ]
  },
  {
   "cell_type": "code",
   "execution_count": 34,
   "id": "45878788",
   "metadata": {},
   "outputs": [
    {
     "name": "stdout",
     "output_type": "stream",
     "text": [
      "insert into hive.temp_finance.sub1 select *, cast('done' as varchar) as data_copied from hive.historical.full_temp_finance_sub1 where dt = (select max(dt) from hive.historical.full_temp_finance_sub1 where dt >= cast(current_date as varchar))\n",
      "[[4919]]\n"
     ]
    }
   ],
   "source": [
    "import trino\n",
    "from trino.dbapi import connect\n",
    "conn = connect(host=\"presto.crofarm.com\",port=443,catalog='hive',http_scheme='https',auth=trino.auth.BasicAuthentication(\"db.manager\",\"crofarm\"))\n",
    "cur = conn.cursor()\n",
    "\n",
    "create=[\"insert into hive.temp_finance.sub1 select *, cast('done' as varchar) as data_copied from hive.historical.full_temp_finance_sub1 where dt = (select max(dt) from hive.historical.full_temp_finance_sub1 where dt >= cast(current_date as varchar))\"]\n",
    "c=[\"CREATE TABLE IF NOT EXISTS hive.historical.full_temp_finance_sub1( id Integer, cat varchar, old_cat varchar, dt varchar) WITH( partitioned_by = array['dt'], external_location = 's3a://presto-prod-otipy/otipy-database/backup-full-load/temp_finance/sub1', format='ORC')\"]\n",
    "# m=[\"CREATE TABLE IF NOT EXISTS hive.historical.temp_finance_sub1( id Integer, cat varchar, old_cat varchar, dt varchar) WITH( partitioned_by = array['dt'], external_location = 's3a://presto-prod-otipy/otipy-database/backup-full-load/temp_finance/sub1', format='ORC')\"]\n",
    "# n=[\"Drop table historical.temp_finance_sub1\"]\n",
    "for i in create :  \n",
    "    b = i\n",
    "    print(b)\n",
    "    cur.execute(b)\n",
    "    print(cur.fetchall())"
   ]
  },
  {
   "cell_type": "code",
   "execution_count": null,
   "id": "fedd6bb4",
   "metadata": {},
   "outputs": [],
   "source": [
    "insert into hive.temp_finance.sub1 select *, cast('done' as varchar) as data_copied from hive.historical.temp_finance_sub1 where dt = (select max(dt) from hive.historical.temp_finance_sub1 where dt >= cast(current_date as varchar))"
   ]
  },
  {
   "cell_type": "code",
   "execution_count": 12,
   "id": "b1b5c76a",
   "metadata": {},
   "outputs": [
    {
     "name": "stdout",
     "output_type": "stream",
     "text": [
      "IntegerType\n",
      "StringType\n",
      "StringType\n",
      "DecimalType(8,2)\n",
      "IntegerType\n",
      "IntegerType\n",
      "BooleanType\n",
      "LongType\n",
      "LongType\n",
      "IntegerType\n",
      "IntegerType\n",
      "IntegerType\n",
      "IntegerType\n",
      "StringType\n",
      "IntegerType\n",
      "IntegerType\n",
      "BooleanType\n",
      "IntegerType\n",
      "IntegerType\n",
      "StringType\n",
      "IntegerType\n",
      "IntegerType\n",
      "IntegerType\n",
      "DecimalType(6,2)\n",
      "DecimalType(8,2)\n"
     ]
    }
   ],
   "source": [
    "for i in df.columns:\n",
    "    print(str(df.schema[i].dataType))"
   ]
  },
  {
   "cell_type": "markdown",
   "id": "e0be38bc",
   "metadata": {},
   "source": [
    "# crofarmUsersdb"
   ]
  },
  {
   "cell_type": "code",
   "execution_count": 8,
   "id": "27ac59cd",
   "metadata": {},
   "outputs": [],
   "source": [
    "df = sqlContext.read.format('orc').load(\"2022-09-19.orc\")\n",
    "table_name = 'recharge_code'\n",
    "create_table=[]\n",
    "n=[]\n",
    "for field in df.schema.fields:\n",
    "    if(str(field.dataType).replace(\"Type\",\"\")==\"String\"):\n",
    "        n.append(field.name +\" \"+str(\"varchar\"))\n",
    "    elif(str(field.dataType).replace(\"Type\",\"\")==\"Long\"):\n",
    "        n.append(field.name +\" \"+str(\"bigint\"))\n",
    "    else:\n",
    "        n.append(field.name +\" \"+str(field.dataType).replace(\"Type\",\"\"))\n",
    "o=(\"CREATE TABLE IF NOT EXISTS hive.finance.\"+table_name+ '[%s]' % ', '.join(map(str, n)))\n",
    "x = o.replace(\"[\", \"(\")\n",
    "x=x.replace(\"]\",\")\")\n",
    "x=(x+\" WITH(partitioned_by = array['dt'], external_location = 's3a://presto-prod-otipy/otipy-database/finance/\"+table_name+\"', format='ORC')\")\n",
    "create_table.append(x)"
   ]
  },
  {
   "cell_type": "code",
   "execution_count": null,
   "id": "1a9b0e26",
   "metadata": {},
   "outputs": [],
   "source": [
    "s3://presto-prod-otipy/otipy-database/finance/recharge_code/dt=2022-09-19/2022-09-19.orc"
   ]
  },
  {
   "cell_type": "code",
   "execution_count": 9,
   "id": "d20049ec",
   "metadata": {},
   "outputs": [
    {
     "data": {
      "text/plain": [
       "[\"CREATE TABLE IF NOT EXISTS hive.finance.recharge_code(s_no Integer, n_slot_id Integer, cust_id Integer, in_source varchar, coupon_code varchar, credit Decimal(8,2), table_check varchar, dt varchar) WITH(partitioned_by = array['dt'], external_location = 's3a://presto-prod-otipy/otipy-database/finance/recharge_code', format='ORC')\"]"
      ]
     },
     "execution_count": 9,
     "metadata": {},
     "output_type": "execute_result"
    }
   ],
   "source": [
    "create_table"
   ]
  },
  {
   "cell_type": "markdown",
   "id": "8025b021",
   "metadata": {},
   "source": [
    "## temp_financedb"
   ]
  },
  {
   "cell_type": "code",
   "execution_count": 5,
   "id": "8acbfe09",
   "metadata": {},
   "outputs": [
    {
     "name": "stdout",
     "output_type": "stream",
     "text": [
      "CREATE TABLE IF NOT EXISTS hive.bizfin.consumer_base(\n",
      "yr  varchar,\n",
      "mnth  varchar,\n",
      "wk  varchar,\n",
      "n_slot_id Integer,\n",
      "dt  varchar,\n",
      "polygon_id Integer,\n",
      "polygon_name  varchar,\n",
      "distributor_id Integer,\n",
      "DC  varchar,\n",
      "status  varchar,\n",
      "prod_id Integer,\n",
      "prod_name  varchar,\n",
      "subcat  varchar,\n",
      "new_subcat  varchar,\n",
      "cat  varchar,\n",
      "Prod_ord  bigint,\n",
      "qty DecimalType(1,\n",
      "SP_value DecimalType(1,\n",
      "SP DecimalType(1,\n",
      "WI_amt DecimalType(1,\n",
      "ref_wd Double,\n",
      "act_wd Double,\n",
      "stf_qty DecimalType(1,\n",
      "stf_value DecimalType(1,\n",
      "mkt_cost DecimalType(1,\n",
      "act_qty DecimalType(1,\n",
      "SP_v2 DecimalType(1,\n",
      "pp_wd_qty DecimalType(1,\n",
      "total_orders  bigint,\n",
      "PP_sys  bigint,\n",
      "PP DecimalType(1,\n",
      "PP_value DecimalType(1,\n",
      "Margin DecimalType(1,\n",
      "FNV_FMCG  varchar,\n",
      "City_Name  varchar,\n",
      "NCR_MMR  varchar,\n",
      "date_partiton_key  varchar,\n",
      "dt varchar\n",
      ")\n",
      "WITH( partitioned_by = array['dt'],\n",
      "external_location = 's3a://presto-prod-otipy/full_load_1am/temp_finance/consumer_base',\n",
      "format='ORC');\n",
      "\n",
      "CALL system.sync_partition_metadata(schema_name=>'bizfin', table_name=>'consumer_base', mode=>'FULL');\n"
     ]
    }
   ],
   "source": [
    "df = sqlContext.read.format('orc').load(\"2022-08-31.orc\")\n",
    "table_name = 'consumer_base'\n",
    "print(\"CREATE TABLE IF NOT EXISTS hive.bizfin.\"+str(table_name)+\"(\")\n",
    "for i in df.columns:\n",
    "    \n",
    "    if((str(df.schema[i].dataType)[:len(str(df.schema[i].dataType))-4])=='String'):\n",
    "        print(str(i)+\"  varchar,\")\n",
    "    elif((str(df.schema[i].dataType)[:len(str(df.schema[i].dataType))-4])=='Long'):\n",
    "        print(str(i)+\"  bigint,\")\n",
    "    else:\n",
    "        print(str(i)+\" \"+(str(df.schema[i].dataType)[:len(str(df.schema[i].dataType))-4])+\",\")\n",
    "print(\"dt varchar\")\n",
    "print(\")\")\n",
    "print(\"WITH( partitioned_by = array['dt'],\")\n",
    "print(\"external_location = 's3a://presto-prod-otipy/full_load_1am/temp_finance/\"+str(table_name)+\"',\")\n",
    "print(\"format='ORC');\")\n",
    "print(\"\")\n",
    "print(\"CALL system.sync_partition_metadata(schema_name=>'bizfin', table_name=>'\"+str(table_name)+\"', mode=>'FULL');\")"
   ]
  },
  {
   "cell_type": "markdown",
   "id": "35264ba5",
   "metadata": {},
   "source": [
    "## productsdb"
   ]
  },
  {
   "cell_type": "code",
   "execution_count": 9,
   "id": "6f697988",
   "metadata": {},
   "outputs": [
    {
     "name": "stdout",
     "output_type": "stream",
     "text": [
      "CREATE TABLE IF NOT EXISTS hive.products.order_marketing_cost(\n",
      "id Integer,\n",
      "order_id Integer,\n",
      "prod_id Integer,\n",
      "marketing_cost Integer,\n",
      "entry_time Long,\n",
      "updated_at Long,\n",
      "purchase_discount Integer,\n",
      ")\n",
      "(\n",
      "external_location = 's3a://presto-prod-otipy/otipy-database/live/products/order_marketing_cost',\n",
      "format='ORC');\n",
      "\n",
      "CALL system.sync_partition_metadata(schema_name=>'historical_data', table_name=>'order_marketing_cost', mode=>'FULL');\n"
     ]
    }
   ],
   "source": [
    "df = sqlContext.read.format('orc').load(\"000da3db-3499-4f2c-af8a-b3edbbf69897.orc\")\n",
    "table_name = 'order_marketing_cost'\n",
    "print(\"CREATE TABLE IF NOT EXISTS hive.products.\"+str(table_name)+\"(\")\n",
    "for i in df.columns:\n",
    "    if((str(df.schema[i].dataType)[:len(str(df.schema[i].dataType))-4])=='String'):\n",
    "        print(str(i)+\"  varchar,\")\n",
    "    else:\n",
    "        print(str(i)+\" \"+(str(df.schema[i].dataType)[:len(str(df.schema[i].dataType))-4])+\",\")\n",
    "print(\")\")\n",
    "print(\"(\")\n",
    "print(\"external_location = 's3a://presto-prod-otipy/otipy-database/live/products/\"+str(table_name)+\"',\")\n",
    "print(\"format='ORC');\")\n",
    "print(\"\")\n",
    "print(\"CALL system.sync_partition_metadata(schema_name=>'', table_name=>'\"+str(table_name)+\"', mode=>'FULL');\")"
   ]
  },
  {
   "cell_type": "markdown",
   "id": "e76694dc",
   "metadata": {},
   "source": [
    "## partition "
   ]
  },
  {
   "cell_type": "code",
   "execution_count": 2,
   "id": "89970cb8",
   "metadata": {},
   "outputs": [
    {
     "name": "stdout",
     "output_type": "stream",
     "text": [
      "CREATE TABLE IF NOT EXISTS hive.consumer.products.distributor_product_mapping(\n",
      "id Integer,\n",
      "distributor_id Integer,\n",
      "mandi_moq  varchar,\n",
      "farm_moq  varchar,\n",
      "mandi_purchase  varchar,\n",
      "farm_purchase  varchar,\n",
      "mandi_margin  varchar,\n",
      "farm_margin  varchar,\n",
      "is_active Boolean,\n",
      "have_deal  varchar,\n",
      "entry_time  varchar,\n",
      "update_time  varchar,\n",
      "product_id Integer,\n",
      "is_standard Boolean,\n",
      "farm_price_updated  varchar,\n",
      "farm_price_validity  varchar,\n",
      "mandi_price_updated  varchar,\n",
      "mandi_price_validity  varchar,\n",
      "purchase_moq  varchar,\n",
      "specification  varchar,\n",
      "old_price_updated  varchar,\n",
      "old_purchase  varchar,\n",
      "old_remark  varchar,\n",
      "remark  varchar,\n",
      "is_inv_linked Boolean,\n",
      "master_product  varchar,\n",
      "in_kg  varchar,\n",
      "shelf_life Integer,\n",
      "is_new Boolean,\n",
      "op_cost  varchar,\n",
      "op_cost_details  varchar,\n",
      "dsm  varchar,\n",
      "default_enabled Boolean,\n",
      "pur_price  varchar,\n",
      "igst  varchar,\n",
      "stock_out_time Integer,\n",
      "is_adv_inv_linked Boolean,\n",
      "rejection_image Integer,\n",
      "in_pcs Boolean,\n",
      "deal_of_day Boolean,\n",
      "rank Integer,\n",
      "combo_prod_list  varchar,\n",
      "is_combo Boolean,\n",
      "marketing_cost Integer,\n",
      "combo_image  varchar,\n",
      "ean_code  varchar,\n",
      "pickup_block Integer,\n",
      "pickup_code Integer,\n",
      "source  varchar,\n",
      "dt varchar\n",
      ")\n",
      "WITH( partitioned_by = array['dt'],\n",
      "external_location = 's3a://presto-prod-otipy/partitioned_data/consumerdb/products.distributor_product_mapping',\n",
      "format='ORC');\n",
      "\n",
      "CALL system.sync_partition_metadata(schema_name=>'products', table_name=>'products.distributor_product_mapping', mode=>'FULL');\n"
     ]
    }
   ],
   "source": [
    "    df = sqlContext.read.format('orc').load(\"2022-06-29.orc\")\n",
    "    table_name = 'products.distributor_product_mapping'\n",
    "    print(\"CREATE TABLE IF NOT EXISTS hive.consumer.\"+str(table_name)+\"(\")\n",
    "    for i in df.columns:\n",
    "        if((str(df.schema[i].dataType)[:len(str(df.schema[i].dataType))-4])=='String'):\n",
    "            print(str(i)+\"  varchar,\")\n",
    "        else:\n",
    "            print(str(i)+\" \"+(str(df.schema[i].dataType)[:len(str(df.schema[i].dataType))-4])+\",\")\n",
    "    print(\"dt varchar\")\n",
    "    print(\")\")\n",
    "    print(\"WITH( partitioned_by = array['dt'],\")\n",
    "    print(\"external_location = 's3a://presto-prod-otipy/partitioned_data/consumerdb/\"+str(table_name)+\"',\")\n",
    "    print(\"format='ORC');\")\n",
    "    print(\"\")\n",
    "    print(\"CALL system.sync_partition_metadata(schema_name=>'products', table_name=>'\"+str(table_name)+\"', mode=>'FULL');\")"
   ]
  },
  {
   "cell_type": "code",
   "execution_count": 28,
   "id": "9dd26468",
   "metadata": {},
   "outputs": [
    {
     "name": "stdout",
     "output_type": "stream",
     "text": [
      "CREATE TABLE IF NOT EXISTS hive.crofarmUsers.cr_address(\n",
      "id Integer,\n",
      "line1  varchar,\n",
      "line2  varchar,\n",
      "latitude  varchar,\n",
      "longitude  varchar,\n",
      "pincode  varchar,\n",
      "entry_time  varchar,\n",
      "update_time  varchar,\n",
      "city_id Integer,\n",
      "place_id  varchar,\n",
      "hindi_address  varchar,\n",
      "area  varchar,\n",
      "house_no  varchar,\n",
      "locality  varchar,\n",
      "tower_no  varchar,\n",
      "grid_id  varchar,\n",
      "bag_drop_lat  varchar,\n",
      "bag_drop_long  varchar,\n",
      "dt varchar\n",
      ")\n",
      "WITH( partitioned_by = array['dt'],\n",
      "external_location = 's3a://presto-prod-otipy/partitioned_data/crofarmUsers/cr_address',\n",
      "format='ORC');\n",
      "\n",
      "CALL system.sync_partition_metadata(schema_name=>'crofarmUsers', table_name=>'cr_address', mode=>'FULL');\n"
     ]
    }
   ],
   "source": [
    "df = sqlContext.read.format('orc').load(\"16ca457f-3206-4157-b9b5-94f0c8410c30.orc\")\n",
    "table_name = 'cr_address'\n",
    "print(\"CREATE TABLE IF NOT EXISTS hive.crofarmUsers.\"+str(table_name)+\"(\")\n",
    "for i in df.columns:\n",
    "    if((str(df.schema[i].dataType)[:len(str(df.schema[i].dataType))-4])=='String'):\n",
    "        print(str(i)+\"  varchar,\")\n",
    "    else:\n",
    "        print(str(i)+\" \"+(str(df.schema[i].dataType)[:len(str(df.schema[i].dataType))-4])+\",\")\n",
    "print(\"dt varchar\")\n",
    "print(\")\")\n",
    "print(\"WITH( partitioned_by = array['dt'],\")\n",
    "print(\"external_location = 's3a://presto-prod-otipy/partitioned_data/crofarmUsersdb/\"+str(table_name)+\"',\")\n",
    "print(\"format='ORC');\")\n",
    "print(\"\")\n",
    "print(\"CALL system.sync_partition_metadata(schema_name=>'crofarmusers', table_name=>'\"+str(table_name)+\"', mode=>'FULL');\")"
   ]
  },
  {
   "cell_type": "code",
   "execution_count": 70,
   "id": "8ee0ae9b",
   "metadata": {},
   "outputs": [],
   "source": [
    "s='''`bvarchar\n",
    "    locality\tvarchar\n",
    "    tower_no\tvarchar\n",
    "    grid_id\tvarchar\n",
    "    bag_drop_lat\tvarchar\n",
    "    bag_drop_long\tvarchar\n",
    "    dt\tvarchar'''"
   ]
  },
  {
   "cell_type": "code",
   "execution_count": null,
   "id": "142ebe83",
   "metadata": {},
   "outputs": [],
   "source": [
    "CREATE TABLE hive.historical_data.cr_address (\n",
    "   id integer,\n",
    "   line1 varchar,\n",
    "   line2 varchar,\n",
    "   latitude varchar,\n",
    "   longitude varchar,\n",
    "   pincode varchar,\n",
    "   entry_time varchar,\n",
    "   update_time varchar,\n",
    "   city_id integer,\n",
    "   place_id varchar,\n",
    "   hindi_address varchar,\n",
    "   area varchar,\n",
    "   house_no varchar,\n",
    "   locality varchar,\n",
    "   tower_no varchar,\n",
    "   grid_id varchar,\n",
    "   bag_drop_lat varchar,\n",
    "   bag_drop_long varchar,\n",
    "   dt varchar\n",
    ")\n",
    "WITH (\n",
    "   external_location = 's3a://presto-prod-otipy/historical_data/crofarmUsersdb/cr_address',\n",
    "   format = 'ORC',\n",
    "   partitioned_by = ARRAY['dt']\n",
    ")"
   ]
  },
  {
   "cell_type": "code",
   "execution_count": 118,
   "id": "059b4b0b",
   "metadata": {},
   "outputs": [
    {
     "name": "stdout",
     "output_type": "stream",
     "text": [
      "CREATE TABLE IF NOT EXISTS hive.crofarmUsers.cr_address(\n",
      "id integer,\n",
      "    line1 varchar,\n",
      "    line2 varchar,\n",
      "    latitude varchar,\n",
      "    longitude varchar,\n",
      "    pincode varchar,\n",
      "    entry_time varchar,\n",
      "    update_time varchar,\n",
      "    city_id integer,\n",
      "    place_id varchar,\n",
      "    hindi_address varchar,\n",
      "    area varchar,\n",
      "    house_no varchar,\n",
      "    locality varchar,\n",
      "    tower_no varchar,\n",
      "    grid_id varchar,\n",
      "    bag_drop_lat varchar,\n",
      "    bag_drop_long varchar,\n",
      "    dt varchar,\n",
      ")\n",
      "WITH( partitioned_by = array['dt'],\n",
      "external_location = 's3a://presto-prod-otipy/partitioned_data/crofarmUsersdb/cr_address',\n",
      "format='ORC');\n",
      "\n",
      "CALL system.sync_partition_metadata(schema_name=>'crofarmusers', table_name=>'cr_address', mode=>'FULL');\n"
     ]
    }
   ],
   "source": [
    "def remove(string):\n",
    "    return \"\".join(string.split(\" \"))\n",
    "data = a\n",
    "df = pd.DataFrame([x.split('\\t') for x in s.split('\\n')],columns=['columns','dataType'])\n",
    "table_name = 'cr_address'\n",
    "print(\"CREATE TABLE IF NOT EXISTS hive.crofarmUsers.\"+str(table_name)+\"(\")\n",
    "for i in range(len(df)):\n",
    "    print(str(df['columns'][i])+\" \"+df['dataType'][i]+\",\")\n",
    "print(\")\")\n",
    "print(\"WITH( partitioned_by = array['dt'],\")\n",
    "print(\"external_location = 's3a://presto-prod-otipy/partitioned_data/crofarmUsersdb/\"+str(table_name)+\"',\")\n",
    "print(\"format='ORC');\")\n",
    "print(\"\")\n",
    "print(\"CALL system.sync_partition_metadata(schema_name=>'crofarmusers', table_name=>'\"+str(table_name)+\"', mode=>'FULL');\")"
   ]
  },
  {
   "cell_type": "code",
   "execution_count": 83,
   "id": "6c7ed7e9",
   "metadata": {},
   "outputs": [
    {
     "ename": "SyntaxError",
     "evalue": "invalid syntax. Perhaps you forgot a comma? (770983717.py, line 8)",
     "output_type": "error",
     "traceback": [
      "\u001b[1;36m  Input \u001b[1;32mIn [83]\u001b[1;36m\u001b[0m\n\u001b[1;33m    if((str(df.0[i].dataType)[:len(str(df.schema[i].dataType))-4])=='String'):\u001b[0m\n\u001b[1;37m            ^\u001b[0m\n\u001b[1;31mSyntaxError\u001b[0m\u001b[1;31m:\u001b[0m invalid syntax. Perhaps you forgot a comma?\n"
     ]
    }
   ],
   "source": [
    "\n",
    "table_name = 'cr_address'\n",
    "print(\"CREATE TABLE IF NOT EXISTS hive.crofarmUsers.\"+str(table_name)+\"(\")\n",
    "for i in df.:\n",
    "    if((str(df.schema[i].dataType)[:len(str(df.schema[i].dataType))-4])=='String'):\n",
    "        print(str(i)+\"  varchar,\")\n",
    "    else:\n",
    "        print(str(i)+\" \"+(str(df.schema[i].dataType)[:len(str(df.schema[i].dataType))-4])+\",\")\n",
    "print(\"dt varchar\")\n",
    "print(\")\")\n",
    "print(\"WITH( partitioned_by = array['dt'],\")\n",
    "print(\"external_location = 's3a://presto-prod-otipy/partitioned_data/crofarmUsersdb/\"+str(table_name)+\"',\")\n",
    "print(\"format='ORC');\")\n",
    "print(\"\")\n",
    "print(\"CALL system.sync_partition_metadata(schema_name=>'crofarmusers', table_name=>'\"+str(table_name)+\"', mode=>'FULL');\")"
   ]
  },
  {
   "cell_type": "code",
   "execution_count": 62,
   "id": "02c773d5",
   "metadata": {},
   "outputs": [
    {
     "data": {
      "text/html": [
       "<div>\n",
       "<style scoped>\n",
       "    .dataframe tbody tr th:only-of-type {\n",
       "        vertical-align: middle;\n",
       "    }\n",
       "\n",
       "    .dataframe tbody tr th {\n",
       "        vertical-align: top;\n",
       "    }\n",
       "\n",
       "    .dataframe thead th {\n",
       "        text-align: right;\n",
       "    }\n",
       "</style>\n",
       "<table border=\"1\" class=\"dataframe\">\n",
       "  <thead>\n",
       "    <tr style=\"text-align: right;\">\n",
       "      <th></th>\n",
       "      <th>0</th>\n",
       "    </tr>\n",
       "  </thead>\n",
       "  <tbody>\n",
       "    <tr>\n",
       "      <th>0</th>\n",
       "      <td>id\\tinteger\\nline1\\tvarchar\\nline2\\tvarchar\\nl...</td>\n",
       "    </tr>\n",
       "  </tbody>\n",
       "</table>\n",
       "</div>"
      ],
      "text/plain": [
       "                                                   0\n",
       "0  id\\tinteger\\nline1\\tvarchar\\nline2\\tvarchar\\nl..."
      ]
     },
     "execution_count": 62,
     "metadata": {},
     "output_type": "execute_result"
    }
   ],
   "source": []
  },
  {
   "cell_type": "code",
   "execution_count": 88,
   "id": "725b90cf",
   "metadata": {},
   "outputs": [],
   "source": [
    "df = sqlContext.read.format('orc').load(\"16ca457f-3206-4157-b9b5-94f0c8410c30.orc\")"
   ]
  },
  {
   "cell_type": "code",
   "execution_count": 95,
   "id": "52573716",
   "metadata": {},
   "outputs": [
    {
     "name": "stdout",
     "output_type": "stream",
     "text": [
      "StructField(amount,StringType,true)\n"
     ]
    }
   ],
   "source": []
  }
 ],
 "metadata": {
  "kernelspec": {
   "display_name": "Python 3 (ipykernel)",
   "language": "python",
   "name": "python3"
  },
  "language_info": {
   "codemirror_mode": {
    "name": "ipython",
    "version": 3
   },
   "file_extension": ".py",
   "mimetype": "text/x-python",
   "name": "python",
   "nbconvert_exporter": "python",
   "pygments_lexer": "ipython3",
   "version": "3.10.4"
  }
 },
 "nbformat": 4,
 "nbformat_minor": 5
}
