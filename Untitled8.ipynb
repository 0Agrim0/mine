{
 "cells": [
  {
   "cell_type": "code",
   "execution_count": null,
   "id": "e774badb",
   "metadata": {},
   "outputs": [],
   "source": [
    "  df = sqlContext.read.format('orc').load(\"2022-09-02.orc\")\n",
    "        n=[]\n",
    "for field in df.schema.fields:\n",
    "    if(str(field.dataType).replace(\"Type\",\"\")==\"String\"):\n",
    "        n.append(field.name +\" \"+str(\"varchar\"))\n",
    "    elif(str(field.dataType).replace(\"Type\",\"\")==\"Long\"):\n",
    "        n.append(field.name +\" \"+str(\"bigint\"))\n",
    "    else:\n",
    "        n.append(field.name +\" \"+str(field.dataType).replace(\"Type\",\"\"))"
   ]
  }
 ],
 "metadata": {
  "kernelspec": {
   "display_name": "Python 3 (ipykernel)",
   "language": "python",
   "name": "python3"
  },
  "language_info": {
   "codemirror_mode": {
    "name": "ipython",
    "version": 3
   },
   "file_extension": ".py",
   "mimetype": "text/x-python",
   "name": "python",
   "nbconvert_exporter": "python",
   "pygments_lexer": "ipython3",
   "version": "3.10.4"
  }
 },
 "nbformat": 4,
 "nbformat_minor": 5
}
