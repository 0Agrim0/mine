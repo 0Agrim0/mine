{
 "cells": [
  {
   "cell_type": "code",
   "execution_count": 154,
   "id": "54f0adb0",
   "metadata": {},
   "outputs": [],
   "source": [
    "import trino\n",
    "from trino.dbapi import connect\n",
    "conn = connect(host=\"presto.crofarm.com\",port=443,catalog='hive',http_scheme='https',auth=trino.auth.BasicAuthentication(\"db.manager\",\"crofarm\"))\n",
    "cur = conn.cursor()\n",
    "\n",
    "cur.execute(\"Show tables from hive.historical_data\")\n",
    "a=cur.fetchall()"
   ]
  },
  {
   "cell_type": "code",
   "execution_count": 113,
   "id": "6d7f168f",
   "metadata": {},
   "outputs": [
    {
     "data": {
      "text/plain": [
       "'acq_leads'"
      ]
     },
     "execution_count": 113,
     "metadata": {},
     "output_type": "execute_result"
    }
   ],
   "source": [
    "\n",
    "a[0][0]"
   ]
  },
  {
   "cell_type": "code",
   "execution_count": 156,
   "id": "76d34b75",
   "metadata": {},
   "outputs": [],
   "source": [
    "import trino\n",
    "from trino.dbapi import connect\n",
    "conn1 = connect(host=\"presto.crofarm.com\",port=443,catalog='hive',http_scheme='https',auth=trino.auth.BasicAuthentication(\"agrim.gupta\",\"Crofarm@123\"))\n",
    "cur1 = conn1.cursor()\n",
    "conn2 = connect(host=\"presto.crofarm.com\",port=443,catalog='hive',http_scheme='https',auth=trino.auth.BasicAuthentication(\"harsh.gupta\",\"Password@01\"))\n",
    "cur2 = conn2.cursor()\n",
    "conn3 = connect(host=\"presto.crofarm.com\",port=443,catalog='hive',http_scheme='https',auth=trino.auth.BasicAuthentication(\"aditya.bajaj\",\"Crofarm@123\"))\n",
    "cur3 = conn3.cursor()\n",
    "conn = connect( host=\"173.0.134.177\",port=8080,user=\"trino\",catalog=\"hive\")\n",
    "cur = conn.cursor()\n",
    "\n",
    "for i in range(len(a)):\n",
    "    try:\n",
    "        cur1.execute(\"Drop table historical_data.\"+a[i][0])\n",
    "        cur1.fetchall()\n",
    "    except:\n",
    "        try:\n",
    "            cur2.execute(\"Drop table historical_data.\"+a[i][0])\n",
    "            cur2.fetchall()\n",
    "        except:\n",
    "            try:\n",
    "                cur3.execute(\"Drop table historical_data.\"+a[i][0])\n",
    "                cur3.fetchall()\n",
    "            except:\n",
    "                try:\n",
    "                    cur.execute(\"Drop table historical_data.\"+a[i][0])\n",
    "                    cur.fetchall()\n",
    "                except:\n",
    "                    pass\n",
    "               \n",
    "\n",
    "       \n",
    "\n",
    "\n",
    "\n",
    "\n",
    "                    \n",
    "                \n",
    "            \n",
    "\n",
    "# a[4][0]\n",
    "\n",
    "# print(cur3.fetchall())\n",
    "# for i in range(len(a)):\n",
    "    "
   ]
  }
 ],
 "metadata": {
  "kernelspec": {
   "display_name": "Python 3 (ipykernel)",
   "language": "python",
   "name": "python3"
  },
  "language_info": {
   "codemirror_mode": {
    "name": "ipython",
    "version": 3
   },
   "file_extension": ".py",
   "mimetype": "text/x-python",
   "name": "python",
   "nbconvert_exporter": "python",
   "pygments_lexer": "ipython3",
   "version": "3.10.4"
  }
 },
 "nbformat": 4,
 "nbformat_minor": 5
}
