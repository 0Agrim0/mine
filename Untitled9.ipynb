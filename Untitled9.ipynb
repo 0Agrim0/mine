{
 "cells": [
  {
   "cell_type": "code",
   "execution_count": null,
   "id": "e305bcf6",
   "metadata": {},
   "outputs": [],
   "source": [
    "from datetime import datetime, timedelta\n",
    "#Import pyspark modules\n",
    "from pyspark.context import SparkContext\n",
    "import pyspark.sql.functions as f\n",
    "#Import glue modules\n",
    "from awsglue.utils import getResolvedOptions\n",
    "from awsglue.context import GlueContext\n",
    "from awsglue.dynamicframe import DynamicFrame\n",
    "from awsglue.job import Job\n",
    "#Initialize contexts and session\n",
    "spark_context = SparkContext.getOrCreate()\n",
    "glue_context = GlueContext(spark_context)\n",
    "spark = glue_context.spark_session\n",
    "#Parameters\n",
    "# glue_db = \"otipy_dev\"\n",
    "# glue_tbl = \"test_consumer\"\n",
    "s3_write_path = \"s3://test-otipy-cdc-raw/processedData/\"\n",
    "# dynamic_frame_read = glue_context.create_dynamic_frame.from_catalog(database = glue_db, table_name = glue_tbl)\n",
    "# df = dynamic_frame_read.toDF()\n",
    "print(\"*****************\")\n",
    "# paths_cdc = ['s3://test-otipy-cdc-raw/SampleData/consumer/cn_consumer/20220220*']\n",
    "cur_time = datetime.now() - timedelta(hours=1)\n",
    "hr_files = cur_time.strftime(\"%Y%m%d-%H\")+\"*\"\n",
    "path_url = 's3://test-otipy-cdc-raw/processedData/final_data/consumer/cn_wallet_transaction/' + hr_files\n",
    "paths_cdc = [path_url]\n",
    "# paths_cdc = ['s3://test-otipy-cdc-raw/SampleData/consumer/cn_consumer/20220222-08*','s3://test-otipy-cdc-raw/SampleData/consumer/cn_consumer/20220222-09*','s3://test-otipy-cdc-raw/SampleData/consumer/cn_consumer/20220222-10*']\n",
    "df_cdc = spark.read.parquet(*paths_cdc)\n",
    "df_cdc.registerTempTable(\"event\")\n",
    "try:\n",
    "    paths_orig = ['s3://test-otipy-cdc-raw/processedData/final_data/hourly_data/wallet_transaction*']\n",
    "    df_orig = spark.read.parquet(*paths_orig)\n",
    "    print(\"INSIDE Try\")\n",
    "except:\n",
    "    print(\"INSIDE EXCEPT consumer\")\n",
    "    paths_orig = ['s3://test-otipy-cdc-raw/processedData/final_data/consumer/cn_wallet_transaction/LOAD*']\n",
    "    df_orig = spark.read.parquet(*paths_orig)\n",
    "#Insert operation\n",
    "df_insert_raw = spark.sql(\"select * from event where Op = 'I'\")\n",
    "df_insert = df_insert_raw.drop(\"Op\")\n",
    "df_orig = df_orig.union(df_insert)\n",
    "#Update operation\n",
    "df_update = spark.sql(\"select * from (select *,ROW_NUMBER() OVER(Partition by id ORDER BY entry_time desc) AS rownum from event where Op = 'U') a where rownum=1\")\n",
    "df_update.registerTempTable(\"update\")\n",
    "df_orig.registerTempTable(\"orig\")\n",
    "df_temp = spark.sql(\"select orig.* from orig left join update on orig.id = update.id where update.id is null\")\n",
    "df_update = df_update.drop(\"Op\",\"rownum\")\n",
    "df_transformed = df_temp.union(df_update)\n",
    "#delete operation\n",
    "df_transformed.registerTempTable(\"transformed\")\n",
    "df_final = spark.sql(\"select transformed.* from transformed left join (select id from event where Op = 'D') b on transformed.id = b.id where b.id is null\")\n",
    "df_final.cache()\n",
    "print(df_final.count())\n",
    "df_final.repartition(1).write.parquet(\"s3://test-otipy-cdc-raw/processedData/final_data/hourly_data/wallet_transaction.parquet\",mode=\"overwrite\")\n",
    "print(\"*****************\")\n",
    "print(\"Order Processing\")"
   ]
  }
 ],
 "metadata": {
  "kernelspec": {
   "display_name": "Python 3 (ipykernel)",
   "language": "python",
   "name": "python3"
  },
  "language_info": {
   "codemirror_mode": {
    "name": "ipython",
    "version": 3
   },
   "file_extension": ".py",
   "mimetype": "text/x-python",
   "name": "python",
   "nbconvert_exporter": "python",
   "pygments_lexer": "ipython3",
   "version": "3.10.4"
  }
 },
 "nbformat": 4,
 "nbformat_minor": 5
}
