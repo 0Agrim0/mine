{
 "cells": [
  {
   "cell_type": "code",
   "execution_count": 2,
   "id": "b41e2853",
   "metadata": {},
   "outputs": [
    {
     "name": "stdout",
     "output_type": "stream",
     "text": [
      "Salt :\n",
      "b'$2b$12$vg4e2t.pm/t2tp2Rhcog3e'\n",
      "Hashed\n",
      "b'$2b$12$vg4e2t.pm/t2tp2Rhcog3eRyqeoe70D.ZP3MFDajvBmDaqmc9a4xy'\n"
     ]
    }
   ],
   "source": [
    "import bcrypt\n",
    "  \n",
    "# Declaring our password\n",
    "password = b'GeekPassword'\n",
    "  \n",
    "# Adding the salt to password\n",
    "salt = bcrypt.gensalt()\n",
    "# Hashing the password\n",
    "hashed = bcrypt.hashpw(password, salt)\n",
    "  \n",
    "# printing the salt\n",
    "print(\"Salt :\")\n",
    "print(salt)\n",
    "  \n",
    "# printing the hashed\n",
    "print(\"Hashed\")\n",
    "print(hashed)"
   ]
  },
  {
   "cell_type": "code",
   "execution_count": 3,
   "id": "ead931e8",
   "metadata": {},
   "outputs": [],
   "source": [
    "b='$6$rounds=106385$k.ozqB3fIFyYwU/T$8y5wkU7kmadr8W4OpqqNxRkrExYFL63QKJlusoRcXtkFZNIUjP15kBsAUYIiDpAybd4ZgAVVWtvIVmSGW9KHr/'"
   ]
  },
  {
   "cell_type": "code",
   "execution_count": 6,
   "id": "21b66c14",
   "metadata": {},
   "outputs": [
    {
     "name": "stdout",
     "output_type": "stream",
     "text": [
      "b'\\xea\\xba.\\x9d\\xdb'\n"
     ]
    }
   ],
   "source": [
    "import base64\n",
    "\n",
    "print(base64.b64decode(b))"
   ]
  },
  {
   "cell_type": "code",
   "execution_count": 1,
   "id": "fdf93e96",
   "metadata": {},
   "outputs": [
    {
     "name": "stdout",
     "output_type": "stream",
     "text": [
      "Collecting bcrypt\n",
      "  Downloading bcrypt-4.0.0-cp36-abi3-win_amd64.whl (153 kB)\n",
      "     -------------------------------------- 153.1/153.1 kB 1.8 MB/s eta 0:00:00\n",
      "Installing collected packages: bcrypt\n",
      "Successfully installed bcrypt-4.0.0\n",
      "Note: you may need to restart the kernel to use updated packages.\n"
     ]
    },
    {
     "name": "stderr",
     "output_type": "stream",
     "text": [
      "WARNING: Ignoring invalid distribution -rotobuf (c:\\users\\agrim\\appdata\\local\\programs\\python\\python310\\lib\\site-packages)\n",
      "WARNING: Ignoring invalid distribution -ensorflow (c:\\users\\agrim\\appdata\\local\\programs\\python\\python310\\lib\\site-packages)\n",
      "WARNING: Ignoring invalid distribution -rotobuf (c:\\users\\agrim\\appdata\\local\\programs\\python\\python310\\lib\\site-packages)\n",
      "WARNING: Ignoring invalid distribution -ensorflow (c:\\users\\agrim\\appdata\\local\\programs\\python\\python310\\lib\\site-packages)\n",
      "WARNING: Ignoring invalid distribution -rotobuf (c:\\users\\agrim\\appdata\\local\\programs\\python\\python310\\lib\\site-packages)\n",
      "WARNING: Ignoring invalid distribution -ensorflow (c:\\users\\agrim\\appdata\\local\\programs\\python\\python310\\lib\\site-packages)\n",
      "WARNING: Ignoring invalid distribution -rotobuf (c:\\users\\agrim\\appdata\\local\\programs\\python\\python310\\lib\\site-packages)\n",
      "WARNING: Ignoring invalid distribution -ensorflow (c:\\users\\agrim\\appdata\\local\\programs\\python\\python310\\lib\\site-packages)\n",
      "WARNING: Ignoring invalid distribution -rotobuf (c:\\users\\agrim\\appdata\\local\\programs\\python\\python310\\lib\\site-packages)\n",
      "WARNING: Ignoring invalid distribution -ensorflow (c:\\users\\agrim\\appdata\\local\\programs\\python\\python310\\lib\\site-packages)\n",
      "WARNING: Ignoring invalid distribution -rotobuf (c:\\users\\agrim\\appdata\\local\\programs\\python\\python310\\lib\\site-packages)\n",
      "WARNING: Ignoring invalid distribution -ensorflow (c:\\users\\agrim\\appdata\\local\\programs\\python\\python310\\lib\\site-packages)\n",
      "WARNING: Ignoring invalid distribution -rotobuf (c:\\users\\agrim\\appdata\\local\\programs\\python\\python310\\lib\\site-packages)\n",
      "WARNING: Ignoring invalid distribution -ensorflow (c:\\users\\agrim\\appdata\\local\\programs\\python\\python310\\lib\\site-packages)\n"
     ]
    }
   ],
   "source": [
    "pip install bcrypt"
   ]
  }
 ],
 "metadata": {
  "kernelspec": {
   "display_name": "Python 3 (ipykernel)",
   "language": "python",
   "name": "python3"
  },
  "language_info": {
   "codemirror_mode": {
    "name": "ipython",
    "version": 3
   },
   "file_extension": ".py",
   "mimetype": "text/x-python",
   "name": "python",
   "nbconvert_exporter": "python",
   "pygments_lexer": "ipython3",
   "version": "3.10.4"
  }
 },
 "nbformat": 4,
 "nbformat_minor": 5
}
